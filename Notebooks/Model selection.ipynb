{
 "cells": [
  {
   "cell_type": "code",
   "execution_count": 1,
   "metadata": {},
   "outputs": [],
   "source": [
    "import pandas as pd\n",
    "import numpy as np\n",
    "import seaborn as sns\n",
    "import matplotlib.pyplot as plt"
   ]
  },
  {
   "cell_type": "code",
   "execution_count": 3,
   "metadata": {},
   "outputs": [],
   "source": [
    "cars = pd.read_csv('../Data sets/cars_encoded_no_outliers.csv')"
   ]
  },
  {
   "cell_type": "code",
   "execution_count": null,
   "metadata": {},
   "outputs": [],
   "source": [
    "X = cars.drop('price', axis=1)\n",
    "y = cars['price']"
   ]
  },
  {
   "cell_type": "markdown",
   "metadata": {},
   "source": [
    "# Натренируем несколько моделей и проверим их перфоманс\n",
    "1. Linear regression\n",
    "2. Lasso regression\n",
    "3. Ridge regression\n",
    "4. Desicion Tree regression\n",
    "5. Random Forest regression\n",
    "6. Gradient Boosting regression"
   ]
  },
  {
   "cell_type": "code",
   "execution_count": null,
   "metadata": {},
   "outputs": [],
   "source": [
    "from sklearn.linear_model import LinearRegression\n",
    "from sklearn.model_selection import cross_validate"
   ]
  },
  {
   "cell_type": "code",
   "execution_count": null,
   "metadata": {},
   "outputs": [],
   "source": [
    "def fit_evaluate(estimator):\n",
    "    res_reg = cross_validate(\n",
    "        estimator,\n",
    "        X,\n",
    "        y,\n",
    "        cv=4,\n",
    "        scoring=\"neg_root_mean_squared_error\",\n",
    "        return_train_score=True, \n",
    "        return_estimator=True\n",
    "    )\n",
    "    return res_reg['test_score'].mean() * -1, res_reg['estimator']"
   ]
  },
  {
   "cell_type": "code",
   "execution_count": null,
   "metadata": {},
   "outputs": [],
   "source": [
    "linear_regression = LinearRegression(normalize=True, n_jobs=-1)\n",
    "lin_reg_test_score, lin_reg_tup = fit_evaluate(linear_regression)"
   ]
  },
  {
   "cell_type": "code",
   "execution_count": null,
   "metadata": {},
   "outputs": [],
   "source": [
    "lin_reg, _, _, _ = lin_reg_tup"
   ]
  },
  {
   "cell_type": "code",
   "execution_count": null,
   "metadata": {},
   "outputs": [],
   "source": [
    "lin_reg_test_score"
   ]
  },
  {
   "cell_type": "code",
   "execution_count": null,
   "metadata": {},
   "outputs": [],
   "source": [
    "from sklearn.model_selection import GridSearchCV\n",
    "from sklearn.model_selection import train_test_split\n",
    "from sklearn.metrics import mean_squared_error"
   ]
  },
  {
   "cell_type": "code",
   "execution_count": null,
   "metadata": {},
   "outputs": [],
   "source": [
    "X_train, X_val, y_train, y_val = train_test_split(X, y, test_size=0.33)"
   ]
  },
  {
   "cell_type": "code",
   "execution_count": null,
   "metadata": {},
   "outputs": [],
   "source": [
    "def grid_search(estimator, param_grid, X_train=X_train, y_train=y_train, X_val=X_val, y_val=y_val):\n",
    "    grid_search = GridSearchCV(\n",
    "        estimator,\n",
    "        param_grid=param_grid,\n",
    "        n_jobs=-1,\n",
    "        scoring=\"neg_root_mean_squared_error\",\n",
    "        cv=4\n",
    "    )\n",
    "    grid_search.fit(X_train, y_train)\n",
    "    best_estimator = grid_search.best_estimator_\n",
    "    grid_search_test = np.sqrt(mean_squared_error(y_val, best_estimator.predict(X_val))).mean()\n",
    "    return best_estimator, grid_search_test"
   ]
  },
  {
   "cell_type": "code",
   "execution_count": null,
   "metadata": {},
   "outputs": [],
   "source": [
    "from sklearn.linear_model import Lasso"
   ]
  },
  {
   "cell_type": "code",
   "execution_count": null,
   "metadata": {},
   "outputs": [],
   "source": [
    "param_grid = {\n",
    "    'alpha': np.arange(0.0, 3.0, 0.1)\n",
    "}"
   ]
  },
  {
   "cell_type": "code",
   "execution_count": null,
   "metadata": {},
   "outputs": [],
   "source": [
    "lasso_reg, lasso_reg_test_score = grid_search(Lasso(), param_grid)"
   ]
  },
  {
   "cell_type": "code",
   "execution_count": null,
   "metadata": {},
   "outputs": [],
   "source": [
    "lasso_reg_test_score"
   ]
  },
  {
   "cell_type": "code",
   "execution_count": null,
   "metadata": {},
   "outputs": [],
   "source": [
    "from sklearn.linear_model import Ridge"
   ]
  },
  {
   "cell_type": "code",
   "execution_count": null,
   "metadata": {},
   "outputs": [],
   "source": [
    "param_grid = {\n",
    "    'alpha': np.arange(0.0, 3.0, 0.1)\n",
    "}"
   ]
  },
  {
   "cell_type": "code",
   "execution_count": null,
   "metadata": {},
   "outputs": [],
   "source": [
    "ridge_reg, ridge_reg_test_score  = grid_search(Ridge(), param_grid)"
   ]
  },
  {
   "cell_type": "code",
   "execution_count": null,
   "metadata": {},
   "outputs": [],
   "source": [
    "ridge_reg_test_score"
   ]
  },
  {
   "cell_type": "code",
   "execution_count": null,
   "metadata": {},
   "outputs": [],
   "source": [
    "from sklearn.tree import DecisionTreeRegressor"
   ]
  },
  {
   "cell_type": "code",
   "execution_count": null,
   "metadata": {},
   "outputs": [],
   "source": [
    "param_grid = {\n",
    "    'max_depth': range(2, 10, 4),\n",
    "    'min_samples_split': range(3, 9, 2),\n",
    "    'min_samples_leaf': range(4, 10, 2),\n",
    "    'max_leaf_nodes': range(5, 20, 5)\n",
    "}"
   ]
  },
  {
   "cell_type": "code",
   "execution_count": null,
   "metadata": {},
   "outputs": [],
   "source": [
    "ds_reg, ds_reg_test_res = grid_search(DecisionTreeRegressor(), param_grid)"
   ]
  },
  {
   "cell_type": "code",
   "execution_count": null,
   "metadata": {},
   "outputs": [],
   "source": [
    "ds_reg_test_res"
   ]
  },
  {
   "cell_type": "code",
   "execution_count": null,
   "metadata": {},
   "outputs": [],
   "source": [
    "from sklearn.ensemble import RandomForestRegressor"
   ]
  },
  {
   "cell_type": "code",
   "execution_count": null,
   "metadata": {},
   "outputs": [],
   "source": [
    "param_grid = {\n",
    "    'n_estimators': range(1000, 4000, 1000),\n",
    "    'max_depth': range(2, 10, 4),\n",
    "    'min_samples_split': range(3, 9, 2),\n",
    "    'min_samples_leaf': range(4, 10, 2),\n",
    "    'max_leaf_nodes': range(5, 20, 5)\n",
    "}"
   ]
  },
  {
   "cell_type": "code",
   "execution_count": null,
   "metadata": {},
   "outputs": [],
   "source": [
    "rf_reg, rf_reg_test_res = grid_search(RandomForestRegressor(), param_grid)"
   ]
  },
  {
   "cell_type": "code",
   "execution_count": null,
   "metadata": {},
   "outputs": [],
   "source": [
    "rf_reg_test_res"
   ]
  },
  {
   "cell_type": "code",
   "execution_count": null,
   "metadata": {},
   "outputs": [],
   "source": [
    "from sklearn.ensemble import GradientBoostingRegressor"
   ]
  },
  {
   "cell_type": "code",
   "execution_count": null,
   "metadata": {},
   "outputs": [],
   "source": [
    "param_grid = {\n",
    "    'n_estimators': range(1000, 4000, 1000),\n",
    "    'max_depth': range(2, 10, 4),\n",
    "    'min_samples_split': range(3, 9, 2),\n",
    "    'min_samples_leaf': range(4, 10, 2),\n",
    "    'max_leaf_nodes': range(5, 20, 5)\n",
    "}"
   ]
  },
  {
   "cell_type": "code",
   "execution_count": null,
   "metadata": {},
   "outputs": [],
   "source": [
    "grad_reg, grad_reg_test_res = grid_search(GradientBoostingRegressor(), param_grid)"
   ]
  },
  {
   "cell_type": "code",
   "execution_count": null,
   "metadata": {},
   "outputs": [],
   "source": [
    "grad_reg_test_res"
   ]
  },
  {
   "cell_type": "code",
   "execution_count": null,
   "metadata": {},
   "outputs": [],
   "source": [
    "res = [lin_reg_test_score, lasso_reg_test_score, ridge_reg_test_score, \\\n",
    "       rf_reg_test_res, grad_reg_test_res, ds_reg_test_res]\n",
    "names = [\"Linear Regressor\", \"Lasso Regressor\", \"Ridge Regressor\", \\\n",
    "         \"Random Forest Regressor\", \"Gradient Boosting Regressor\", \"Decision Tree Regressor\"]"
   ]
  },
  {
   "cell_type": "code",
   "execution_count": null,
   "metadata": {},
   "outputs": [],
   "source": [
    "result_models_df = pd.DataFrame({'names': names, 'test_score': res})"
   ]
  },
  {
   "cell_type": "code",
   "execution_count": null,
   "metadata": {},
   "outputs": [],
   "source": [
    "plt.figure(figsize=(20, 10))\n",
    "estimators = sns.barplot(x='names', y='test_score', data=result_models_df);\n",
    "estimators.set_title(\"All estimators test score\");"
   ]
  },
  {
   "cell_type": "code",
   "execution_count": null,
   "metadata": {},
   "outputs": [],
   "source": [
    "from sklearn.ensemble import StackingRegressor"
   ]
  },
  {
   "cell_type": "code",
   "execution_count": null,
   "metadata": {},
   "outputs": [],
   "source": [
    "estimators = [ridge_reg, rf_reg, grad_reg]\n",
    "names = [\"Ridge Regressor\", \"Random Forest Regressor\", \"Gradient Boosting Regressor\"]"
   ]
  },
  {
   "cell_type": "code",
   "execution_count": null,
   "metadata": {},
   "outputs": [],
   "source": [
    "estimators_n_name = list(zip(names, estimators))\n",
    "estimators_n_name"
   ]
  },
  {
   "cell_type": "code",
   "execution_count": null,
   "metadata": {},
   "outputs": [],
   "source": [
    "stacking_reg = StackingRegressor(estimators_n_name, final_estimator=RandomForestRegressor(n_estimators=3000), \\\n",
    "                                 cv=4, n_jobs=-1)"
   ]
  },
  {
   "cell_type": "code",
   "execution_count": null,
   "metadata": {},
   "outputs": [],
   "source": [
    "stacking_reg.fit(X_train, y_train)"
   ]
  },
  {
   "cell_type": "code",
   "execution_count": null,
   "metadata": {},
   "outputs": [],
   "source": [
    "stacking_reg_test_score = np.sqrt(mean_squared_error(y_val, stacking_reg.predict(X_val))).mean()\n",
    "stacking_reg_test_score"
   ]
  },
  {
   "cell_type": "code",
   "execution_count": null,
   "metadata": {},
   "outputs": [],
   "source": [
    "res = [ridge_reg_test_score, rf_reg_test_res, grad_reg_test_res, stacking_reg_test_score]"
   ]
  },
  {
   "cell_type": "code",
   "execution_count": null,
   "metadata": {},
   "outputs": [],
   "source": [
    "names.append(\"Stacking Regressor\")"
   ]
  },
  {
   "cell_type": "code",
   "execution_count": null,
   "metadata": {},
   "outputs": [],
   "source": [
    "result_models_df = pd.DataFrame({'names': names, 'test_score': res})\n",
    "\n",
    "plt.figure(figsize=(20, 10))\n",
    "best_estimators_score = sns.barplot(x='names', y='test_score', data=result_models_df);\n",
    "best_estimators_score.set_title(\"Best estimators test scores\");"
   ]
  },
  {
   "cell_type": "markdown",
   "metadata": {},
   "source": [
    "## Выведем свойства `feature_importance_` у моделей\n",
    "Это поможет нам понять, какие фичи важнее остальных."
   ]
  },
  {
   "cell_type": "code",
   "execution_count": null,
   "metadata": {},
   "outputs": [],
   "source": [
    "models_perfomance = pd.DataFrame({\"Name\": X.columns, \\\n",
    "                                  \"Value\": rf_reg.feature_importances_, \\\n",
    "                                  \"Model_Name\": \"Random Forest Regressor\"})"
   ]
  },
  {
   "cell_type": "code",
   "execution_count": null,
   "metadata": {},
   "outputs": [],
   "source": [
    "grad_reg_perfomance = pd.DataFrame({\"Name\": X.columns, \\\n",
    "                                    \"Value\": grad_reg.feature_importances_, \\\n",
    "                                    \"Model_Name\": \"Gradient Boosting Regressor\"})"
   ]
  },
  {
   "cell_type": "code",
   "execution_count": null,
   "metadata": {},
   "outputs": [],
   "source": [
    "models_perfomance = models_perfomance.append(grad_reg_perfomance, ignore_index=True)"
   ]
  },
  {
   "cell_type": "code",
   "execution_count": null,
   "metadata": {},
   "outputs": [],
   "source": [
    "plt.figure(figsize=(20, 10))\n",
    "grad_reg_perfomance_bar_plot = sns.barplot(x='Name', y='Value', hue='Model_Name', data=models_perfomance);\n",
    "grad_reg_perfomance_bar_plot.set_xticklabels(models_perfomance['Name'].unique(), rotation=30);\n",
    "grad_reg_perfomance_bar_plot.set_title(\"Gradient Boosting Regressor and Random Forest Regressor Feature Importance\");"
   ]
  },
  {
   "cell_type": "markdown",
   "metadata": {},
   "source": [
    "### Наиболее важными фича для моделей были:\n",
    "1. Кол-во лошадиных сил\n",
    "2. Год выпуска\n",
    "3. Пробег\n",
    "4. Сегмент\n",
    "5. Тип двигателя"
   ]
  }
 ],
 "metadata": {
  "kernelspec": {
   "display_name": "Python 3",
   "language": "python",
   "name": "python3"
  },
  "language_info": {
   "codemirror_mode": {
    "name": "ipython",
    "version": 3
   },
   "file_extension": ".py",
   "mimetype": "text/x-python",
   "name": "python",
   "nbconvert_exporter": "python",
   "pygments_lexer": "ipython3",
   "version": "3.8.3"
  }
 },
 "nbformat": 4,
 "nbformat_minor": 4
}
