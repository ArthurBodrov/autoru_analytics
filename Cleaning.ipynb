{
 "cells": [
  {
   "cell_type": "code",
   "execution_count": 731,
   "metadata": {},
   "outputs": [],
   "source": [
    "import pandas as pd"
   ]
  },
  {
   "cell_type": "code",
   "execution_count": 732,
   "metadata": {},
   "outputs": [],
   "source": [
    "cars = pd.read_csv(\"./autoru_items.csv\")"
   ]
  },
  {
   "cell_type": "code",
   "execution_count": 733,
   "metadata": {},
   "outputs": [
    {
     "data": {
      "text/html": [
       "<div>\n",
       "<style scoped>\n",
       "    .dataframe tbody tr th:only-of-type {\n",
       "        vertical-align: middle;\n",
       "    }\n",
       "\n",
       "    .dataframe tbody tr th {\n",
       "        vertical-align: top;\n",
       "    }\n",
       "\n",
       "    .dataframe thead th {\n",
       "        text-align: right;\n",
       "    }\n",
       "</style>\n",
       "<table border=\"1\" class=\"dataframe\">\n",
       "  <thead>\n",
       "    <tr style=\"text-align: right;\">\n",
       "      <th></th>\n",
       "      <th>item_link</th>\n",
       "      <th>km_age</th>\n",
       "      <th>mark</th>\n",
       "      <th>markName</th>\n",
       "      <th>model</th>\n",
       "      <th>modelName</th>\n",
       "      <th>power</th>\n",
       "      <th>segment</th>\n",
       "      <th>state</th>\n",
       "      <th>transmission</th>\n",
       "      <th>...</th>\n",
       "      <th>type</th>\n",
       "      <th>region</th>\n",
       "      <th>body_type</th>\n",
       "      <th>color</th>\n",
       "      <th>drive_type</th>\n",
       "      <th>wheell_type</th>\n",
       "      <th>condition</th>\n",
       "      <th>ownersCount</th>\n",
       "      <th>is_customs</th>\n",
       "      <th>price</th>\n",
       "    </tr>\n",
       "  </thead>\n",
       "  <tbody>\n",
       "    <tr>\n",
       "      <th>0</th>\n",
       "      <td>NaN</td>\n",
       "      <td>60000.0</td>\n",
       "      <td>KIA</td>\n",
       "      <td>Kia</td>\n",
       "      <td>OPTIMA</td>\n",
       "      <td>Optima</td>\n",
       "      <td>188.0</td>\n",
       "      <td>MEDIUM</td>\n",
       "      <td>used</td>\n",
       "      <td>AUTOMATIC</td>\n",
       "      <td>...</td>\n",
       "      <td>NaN</td>\n",
       "      <td>Зеленоград</td>\n",
       "      <td>седан</td>\n",
       "      <td>синий</td>\n",
       "      <td>передний</td>\n",
       "      <td>Левый</td>\n",
       "      <td>Не требует ремонта</td>\n",
       "      <td>1 владелец</td>\n",
       "      <td>Растаможен</td>\n",
       "      <td>1600000.0</td>\n",
       "    </tr>\n",
       "    <tr>\n",
       "      <th>1</th>\n",
       "      <td>NaN</td>\n",
       "      <td>74000.0</td>\n",
       "      <td>AUDI</td>\n",
       "      <td>Audi</td>\n",
       "      <td>A4</td>\n",
       "      <td>A4</td>\n",
       "      <td>170.0</td>\n",
       "      <td>PREMIUM</td>\n",
       "      <td>used</td>\n",
       "      <td>VARIATOR</td>\n",
       "      <td>...</td>\n",
       "      <td>NaN</td>\n",
       "      <td>Москва</td>\n",
       "      <td>седан</td>\n",
       "      <td>белый</td>\n",
       "      <td>передний</td>\n",
       "      <td>Левый</td>\n",
       "      <td>Не требует ремонта</td>\n",
       "      <td>3 или более</td>\n",
       "      <td>Растаможен</td>\n",
       "      <td>1040000.0</td>\n",
       "    </tr>\n",
       "    <tr>\n",
       "      <th>2</th>\n",
       "      <td>NaN</td>\n",
       "      <td>39900.0</td>\n",
       "      <td>GAZ</td>\n",
       "      <td>ГАЗ</td>\n",
       "      <td>21</td>\n",
       "      <td>21 «Волга»</td>\n",
       "      <td>75.0</td>\n",
       "      <td>MEDIUM</td>\n",
       "      <td>used</td>\n",
       "      <td>MECHANICAL</td>\n",
       "      <td>...</td>\n",
       "      <td>NaN</td>\n",
       "      <td>Москва</td>\n",
       "      <td>седан</td>\n",
       "      <td>серый</td>\n",
       "      <td>задний</td>\n",
       "      <td>Левый</td>\n",
       "      <td>Не требует ремонта</td>\n",
       "      <td>2 владельца</td>\n",
       "      <td>Растаможен</td>\n",
       "      <td>390000.0</td>\n",
       "    </tr>\n",
       "    <tr>\n",
       "      <th>3</th>\n",
       "      <td>NaN</td>\n",
       "      <td>120000.0</td>\n",
       "      <td>TOYOTA</td>\n",
       "      <td>Toyota</td>\n",
       "      <td>VENZA</td>\n",
       "      <td>Venza</td>\n",
       "      <td>185.0</td>\n",
       "      <td>MEDIUM</td>\n",
       "      <td>used</td>\n",
       "      <td>AUTOMATIC</td>\n",
       "      <td>...</td>\n",
       "      <td>suv</td>\n",
       "      <td>Москва</td>\n",
       "      <td>внедорожник 5 дв.</td>\n",
       "      <td>белый</td>\n",
       "      <td>полный</td>\n",
       "      <td>Левый</td>\n",
       "      <td>Не требует ремонта</td>\n",
       "      <td>2 владельца</td>\n",
       "      <td>Растаможен</td>\n",
       "      <td>1575000.0</td>\n",
       "    </tr>\n",
       "    <tr>\n",
       "      <th>4</th>\n",
       "      <td>NaN</td>\n",
       "      <td>453844.0</td>\n",
       "      <td>MERCEDES</td>\n",
       "      <td>Mercedes-Benz</td>\n",
       "      <td>G_KLASSE</td>\n",
       "      <td>G-Класс</td>\n",
       "      <td>215.0</td>\n",
       "      <td>PREMIUM</td>\n",
       "      <td>used</td>\n",
       "      <td>AUTOMATIC</td>\n",
       "      <td>...</td>\n",
       "      <td>suv</td>\n",
       "      <td>ДомодедовскаяЗябликово</td>\n",
       "      <td>внедорожник 5 дв.</td>\n",
       "      <td>чёрный</td>\n",
       "      <td>полный</td>\n",
       "      <td>Левый</td>\n",
       "      <td>Не требует ремонта</td>\n",
       "      <td>3 или более</td>\n",
       "      <td>Растаможен</td>\n",
       "      <td>1098000.0</td>\n",
       "    </tr>\n",
       "  </tbody>\n",
       "</table>\n",
       "<p>5 rows × 22 columns</p>\n",
       "</div>"
      ],
      "text/plain": [
       "   item_link    km_age      mark       markName     model   modelName  power  \\\n",
       "0        NaN   60000.0       KIA            Kia    OPTIMA      Optima  188.0   \n",
       "1        NaN   74000.0      AUDI           Audi        A4          A4  170.0   \n",
       "2        NaN   39900.0       GAZ            ГАЗ        21  21 «Волга»   75.0   \n",
       "3        NaN  120000.0    TOYOTA         Toyota     VENZA       Venza  185.0   \n",
       "4        NaN  453844.0  MERCEDES  Mercedes-Benz  G_KLASSE     G-Класс  215.0   \n",
       "\n",
       "   segment state transmission  ...  type                   region  \\\n",
       "0   MEDIUM  used    AUTOMATIC  ...   NaN               Зеленоград   \n",
       "1  PREMIUM  used     VARIATOR  ...   NaN                   Москва   \n",
       "2   MEDIUM  used   MECHANICAL  ...   NaN                   Москва   \n",
       "3   MEDIUM  used    AUTOMATIC  ...   suv                   Москва   \n",
       "4  PREMIUM  used    AUTOMATIC  ...   suv   ДомодедовскаяЗябликово   \n",
       "\n",
       "           body_type   color drive_type wheell_type           condition  \\\n",
       "0              седан   синий   передний       Левый  Не требует ремонта   \n",
       "1              седан   белый   передний       Левый  Не требует ремонта   \n",
       "2              седан   серый     задний       Левый  Не требует ремонта   \n",
       "3  внедорожник 5 дв.   белый     полный       Левый  Не требует ремонта   \n",
       "4  внедорожник 5 дв.  чёрный     полный       Левый  Не требует ремонта   \n",
       "\n",
       "   ownersCount  is_customs      price  \n",
       "0   1 владелец  Растаможен  1600000.0  \n",
       "1  3 или более  Растаможен  1040000.0  \n",
       "2  2 владельца  Растаможен   390000.0  \n",
       "3  2 владельца  Растаможен  1575000.0  \n",
       "4  3 или более  Растаможен  1098000.0  \n",
       "\n",
       "[5 rows x 22 columns]"
      ]
     },
     "execution_count": 733,
     "metadata": {},
     "output_type": "execute_result"
    }
   ],
   "source": [
    "cars.head()"
   ]
  },
  {
   "cell_type": "code",
   "execution_count": 734,
   "metadata": {},
   "outputs": [
    {
     "data": {
      "text/plain": [
       "(59781, 22)"
      ]
     },
     "execution_count": 734,
     "metadata": {},
     "output_type": "execute_result"
    }
   ],
   "source": [
    "cars.shape"
   ]
  },
  {
   "cell_type": "code",
   "execution_count": 735,
   "metadata": {},
   "outputs": [
    {
     "data": {
      "text/html": [
       "<div>\n",
       "<style scoped>\n",
       "    .dataframe tbody tr th:only-of-type {\n",
       "        vertical-align: middle;\n",
       "    }\n",
       "\n",
       "    .dataframe tbody tr th {\n",
       "        vertical-align: top;\n",
       "    }\n",
       "\n",
       "    .dataframe thead th {\n",
       "        text-align: right;\n",
       "    }\n",
       "</style>\n",
       "<table border=\"1\" class=\"dataframe\">\n",
       "  <thead>\n",
       "    <tr style=\"text-align: right;\">\n",
       "      <th></th>\n",
       "      <th>count</th>\n",
       "      <th>mean</th>\n",
       "      <th>std</th>\n",
       "      <th>min</th>\n",
       "      <th>25%</th>\n",
       "      <th>50%</th>\n",
       "      <th>75%</th>\n",
       "      <th>max</th>\n",
       "    </tr>\n",
       "  </thead>\n",
       "  <tbody>\n",
       "    <tr>\n",
       "      <th>item_link</th>\n",
       "      <td>0.0</td>\n",
       "      <td>NaN</td>\n",
       "      <td>NaN</td>\n",
       "      <td>NaN</td>\n",
       "      <td>NaN</td>\n",
       "      <td>NaN</td>\n",
       "      <td>NaN</td>\n",
       "      <td>NaN</td>\n",
       "    </tr>\n",
       "    <tr>\n",
       "      <th>km_age</th>\n",
       "      <td>59781.0</td>\n",
       "      <td>6.778704e+04</td>\n",
       "      <td>8.446191e+04</td>\n",
       "      <td>0.0</td>\n",
       "      <td>23.0</td>\n",
       "      <td>44207.0</td>\n",
       "      <td>100000.0</td>\n",
       "      <td>900000.0</td>\n",
       "    </tr>\n",
       "    <tr>\n",
       "      <th>power</th>\n",
       "      <td>59781.0</td>\n",
       "      <td>2.913775e+02</td>\n",
       "      <td>1.655644e+02</td>\n",
       "      <td>33.0</td>\n",
       "      <td>152.0</td>\n",
       "      <td>245.0</td>\n",
       "      <td>422.0</td>\n",
       "      <td>740.0</td>\n",
       "    </tr>\n",
       "    <tr>\n",
       "      <th>year</th>\n",
       "      <td>59781.0</td>\n",
       "      <td>2.014659e+03</td>\n",
       "      <td>6.101605e+00</td>\n",
       "      <td>1943.0</td>\n",
       "      <td>2012.0</td>\n",
       "      <td>2016.0</td>\n",
       "      <td>2020.0</td>\n",
       "      <td>2020.0</td>\n",
       "    </tr>\n",
       "    <tr>\n",
       "      <th>price</th>\n",
       "      <td>59781.0</td>\n",
       "      <td>5.080652e+06</td>\n",
       "      <td>6.555073e+06</td>\n",
       "      <td>23000.0</td>\n",
       "      <td>1190000.0</td>\n",
       "      <td>2421000.0</td>\n",
       "      <td>5800000.0</td>\n",
       "      <td>58382604.0</td>\n",
       "    </tr>\n",
       "  </tbody>\n",
       "</table>\n",
       "</div>"
      ],
      "text/plain": [
       "             count          mean           std      min        25%        50%  \\\n",
       "item_link      0.0           NaN           NaN      NaN        NaN        NaN   \n",
       "km_age     59781.0  6.778704e+04  8.446191e+04      0.0       23.0    44207.0   \n",
       "power      59781.0  2.913775e+02  1.655644e+02     33.0      152.0      245.0   \n",
       "year       59781.0  2.014659e+03  6.101605e+00   1943.0     2012.0     2016.0   \n",
       "price      59781.0  5.080652e+06  6.555073e+06  23000.0  1190000.0  2421000.0   \n",
       "\n",
       "                 75%         max  \n",
       "item_link        NaN         NaN  \n",
       "km_age      100000.0    900000.0  \n",
       "power          422.0       740.0  \n",
       "year          2020.0      2020.0  \n",
       "price      5800000.0  58382604.0  "
      ]
     },
     "execution_count": 735,
     "metadata": {},
     "output_type": "execute_result"
    }
   ],
   "source": [
    "cars.describe().T"
   ]
  },
  {
   "cell_type": "code",
   "execution_count": 736,
   "metadata": {},
   "outputs": [
    {
     "name": "stdout",
     "output_type": "stream",
     "text": [
      "<class 'pandas.core.frame.DataFrame'>\n",
      "RangeIndex: 59781 entries, 0 to 59780\n",
      "Data columns (total 22 columns):\n",
      " #   Column        Non-Null Count  Dtype  \n",
      "---  ------        --------------  -----  \n",
      " 0   item_link     0 non-null      float64\n",
      " 1   km_age        59781 non-null  float64\n",
      " 2   mark          59781 non-null  object \n",
      " 3   markName      59781 non-null  object \n",
      " 4   model         59781 non-null  object \n",
      " 5   modelName     59781 non-null  object \n",
      " 6   power         59781 non-null  float64\n",
      " 7   segment       59781 non-null  object \n",
      " 8   state         59781 non-null  object \n",
      " 9   transmission  59781 non-null  object \n",
      " 10  year          59781 non-null  float64\n",
      " 11  engine-type   59781 non-null  object \n",
      " 12  type          35218 non-null  object \n",
      " 13  region        59781 non-null  object \n",
      " 14  body_type     59781 non-null  object \n",
      " 15  color         59781 non-null  object \n",
      " 16  drive_type    45592 non-null  object \n",
      " 17  wheell_type   45592 non-null  object \n",
      " 18  condition     45592 non-null  object \n",
      " 19  ownersCount   45592 non-null  object \n",
      " 20  is_customs    45592 non-null  object \n",
      " 21  price         59781 non-null  float64\n",
      "dtypes: float64(5), object(17)\n",
      "memory usage: 10.0+ MB\n"
     ]
    }
   ],
   "source": [
    "cars.info()"
   ]
  },
  {
   "cell_type": "code",
   "execution_count": 737,
   "metadata": {},
   "outputs": [
    {
     "data": {
      "text/plain": [
       "Index(['item_link', 'km_age', 'mark', 'markName', 'model', 'modelName',\n",
       "       'power', 'segment', 'state', 'transmission', 'year', 'engine-type',\n",
       "       'type', 'region', 'body_type', 'color', 'drive_type', 'wheell_type',\n",
       "       'condition', 'ownersCount', 'is_customs', 'price'],\n",
       "      dtype='object')"
      ]
     },
     "execution_count": 737,
     "metadata": {},
     "output_type": "execute_result"
    }
   ],
   "source": [
    "cars.columns"
   ]
  },
  {
   "cell_type": "markdown",
   "metadata": {},
   "source": [
    "##### Переименование колонок\n",
    "1. engine-type -> engine_type, чтобы соотвестовала единному стилю\n",
    "2. is_customs -> customs_cleared, чтобы улучшить понимание, что это за фича\n",
    "3. ownersCount -> owners_count"
   ]
  },
  {
   "cell_type": "code",
   "execution_count": 738,
   "metadata": {},
   "outputs": [],
   "source": [
    "cars = cars.rename(columns={'engine-type': 'engine_type', 'is_customs': 'customs_cleared', \"ownersCount\": \"owners_count\"})"
   ]
  },
  {
   "cell_type": "code",
   "execution_count": 739,
   "metadata": {},
   "outputs": [
    {
     "data": {
      "text/plain": [
       "Index(['item_link', 'km_age', 'mark', 'markName', 'model', 'modelName',\n",
       "       'power', 'segment', 'state', 'transmission', 'year', 'engine_type',\n",
       "       'type', 'region', 'body_type', 'color', 'drive_type', 'wheell_type',\n",
       "       'condition', 'owners_count', 'customs_cleared', 'price'],\n",
       "      dtype='object')"
      ]
     },
     "execution_count": 739,
     "metadata": {},
     "output_type": "execute_result"
    }
   ],
   "source": [
    "cars.columns"
   ]
  },
  {
   "cell_type": "code",
   "execution_count": 740,
   "metadata": {},
   "outputs": [
    {
     "data": {
      "text/plain": [
       "item_link          100.0\n",
       "km_age               0.0\n",
       "mark                 0.0\n",
       "markName             0.0\n",
       "model                0.0\n",
       "modelName            0.0\n",
       "power                0.0\n",
       "segment              0.0\n",
       "state                0.0\n",
       "transmission         0.0\n",
       "year                 0.0\n",
       "engine_type          0.0\n",
       "type                41.1\n",
       "region               0.0\n",
       "body_type            0.0\n",
       "color                0.0\n",
       "drive_type          23.7\n",
       "wheell_type         23.7\n",
       "condition           23.7\n",
       "owners_count        23.7\n",
       "customs_cleared     23.7\n",
       "price                0.0\n",
       "dtype: float64"
      ]
     },
     "execution_count": 740,
     "metadata": {},
     "output_type": "execute_result"
    }
   ],
   "source": [
    "round((cars.isnull().sum() / cars.shape[0]) * 100, 1)"
   ]
  },
  {
   "cell_type": "code",
   "execution_count": 741,
   "metadata": {},
   "outputs": [],
   "source": [
    "cars = cars.drop('item_link', axis=1)"
   ]
  },
  {
   "cell_type": "markdown",
   "metadata": {},
   "source": [
    "### Дропаю дубликаты"
   ]
  },
  {
   "cell_type": "code",
   "execution_count": 742,
   "metadata": {},
   "outputs": [
    {
     "data": {
      "text/plain": [
       "(59781, 21)"
      ]
     },
     "execution_count": 742,
     "metadata": {},
     "output_type": "execute_result"
    }
   ],
   "source": [
    "# До\n",
    "cars.shape"
   ]
  },
  {
   "cell_type": "code",
   "execution_count": 743,
   "metadata": {
    "scrolled": true
   },
   "outputs": [
    {
     "data": {
      "text/plain": [
       "'В дата сете оказалось вот столько дубликатов 54890'"
      ]
     },
     "execution_count": 743,
     "metadata": {},
     "output_type": "execute_result"
    }
   ],
   "source": [
    "f\"В дата сете оказалось вот столько дубликатов {cars.duplicated().sum()}\""
   ]
  },
  {
   "cell_type": "markdown",
   "metadata": {},
   "source": [
    "Сначала не поверил и захотел сам проверить это"
   ]
  },
  {
   "cell_type": "code",
   "execution_count": 744,
   "metadata": {},
   "outputs": [
    {
     "data": {
      "text/plain": [
       "0        False\n",
       "1        False\n",
       "2        False\n",
       "3        False\n",
       "4        False\n",
       "         ...  \n",
       "59776     True\n",
       "59777     True\n",
       "59778     True\n",
       "59779     True\n",
       "59780     True\n",
       "Length: 59781, dtype: bool"
      ]
     },
     "execution_count": 744,
     "metadata": {},
     "output_type": "execute_result"
    }
   ],
   "source": [
    "# Проверяю, где можно раздобыть дубликат\n",
    "cars.duplicated()"
   ]
  },
  {
   "cell_type": "code",
   "execution_count": 745,
   "metadata": {},
   "outputs": [
    {
     "data": {
      "text/html": [
       "<div>\n",
       "<style scoped>\n",
       "    .dataframe tbody tr th:only-of-type {\n",
       "        vertical-align: middle;\n",
       "    }\n",
       "\n",
       "    .dataframe tbody tr th {\n",
       "        vertical-align: top;\n",
       "    }\n",
       "\n",
       "    .dataframe thead th {\n",
       "        text-align: right;\n",
       "    }\n",
       "</style>\n",
       "<table border=\"1\" class=\"dataframe\">\n",
       "  <thead>\n",
       "    <tr style=\"text-align: right;\">\n",
       "      <th></th>\n",
       "      <th>km_age</th>\n",
       "      <th>mark</th>\n",
       "      <th>markName</th>\n",
       "      <th>model</th>\n",
       "      <th>modelName</th>\n",
       "      <th>power</th>\n",
       "      <th>segment</th>\n",
       "      <th>state</th>\n",
       "      <th>transmission</th>\n",
       "      <th>year</th>\n",
       "      <th>...</th>\n",
       "      <th>type</th>\n",
       "      <th>region</th>\n",
       "      <th>body_type</th>\n",
       "      <th>color</th>\n",
       "      <th>drive_type</th>\n",
       "      <th>wheell_type</th>\n",
       "      <th>condition</th>\n",
       "      <th>owners_count</th>\n",
       "      <th>customs_cleared</th>\n",
       "      <th>price</th>\n",
       "    </tr>\n",
       "  </thead>\n",
       "  <tbody>\n",
       "    <tr>\n",
       "      <th>59780</th>\n",
       "      <td>6000.0</td>\n",
       "      <td>MERCEDES</td>\n",
       "      <td>Mercedes-Benz</td>\n",
       "      <td>G_KLASSE_AMG</td>\n",
       "      <td>G-Класс AMG</td>\n",
       "      <td>585.0</td>\n",
       "      <td>PREMIUM</td>\n",
       "      <td>used</td>\n",
       "      <td>AUTOMATIC</td>\n",
       "      <td>2018.0</td>\n",
       "      <td>...</td>\n",
       "      <td>suv</td>\n",
       "      <td>Москва</td>\n",
       "      <td>внедорожник 5 дв.</td>\n",
       "      <td>чёрный</td>\n",
       "      <td>полный</td>\n",
       "      <td>Левый</td>\n",
       "      <td>Не требует ремонта</td>\n",
       "      <td>1 владелец</td>\n",
       "      <td>Растаможен</td>\n",
       "      <td>19000000.0</td>\n",
       "    </tr>\n",
       "  </tbody>\n",
       "</table>\n",
       "<p>1 rows × 21 columns</p>\n",
       "</div>"
      ],
      "text/plain": [
       "       km_age      mark       markName         model    modelName  power  \\\n",
       "59780  6000.0  MERCEDES  Mercedes-Benz  G_KLASSE_AMG  G-Класс AMG  585.0   \n",
       "\n",
       "       segment state transmission    year  ... type  region  \\\n",
       "59780  PREMIUM  used    AUTOMATIC  2018.0  ...  suv  Москва   \n",
       "\n",
       "               body_type   color drive_type wheell_type           condition  \\\n",
       "59780  внедорожник 5 дв.  чёрный     полный       Левый  Не требует ремонта   \n",
       "\n",
       "      owners_count customs_cleared       price  \n",
       "59780   1 владелец      Растаможен  19000000.0  \n",
       "\n",
       "[1 rows x 21 columns]"
      ]
     },
     "execution_count": 745,
     "metadata": {},
     "output_type": "execute_result"
    }
   ],
   "source": [
    "cars.tail(1)"
   ]
  },
  {
   "cell_type": "code",
   "execution_count": 746,
   "metadata": {},
   "outputs": [
    {
     "data": {
      "text/html": [
       "<div>\n",
       "<style scoped>\n",
       "    .dataframe tbody tr th:only-of-type {\n",
       "        vertical-align: middle;\n",
       "    }\n",
       "\n",
       "    .dataframe tbody tr th {\n",
       "        vertical-align: top;\n",
       "    }\n",
       "\n",
       "    .dataframe thead th {\n",
       "        text-align: right;\n",
       "    }\n",
       "</style>\n",
       "<table border=\"1\" class=\"dataframe\">\n",
       "  <thead>\n",
       "    <tr style=\"text-align: right;\">\n",
       "      <th></th>\n",
       "      <th>km_age</th>\n",
       "      <th>mark</th>\n",
       "      <th>markName</th>\n",
       "      <th>model</th>\n",
       "      <th>modelName</th>\n",
       "      <th>power</th>\n",
       "      <th>segment</th>\n",
       "      <th>state</th>\n",
       "      <th>transmission</th>\n",
       "      <th>year</th>\n",
       "      <th>...</th>\n",
       "      <th>type</th>\n",
       "      <th>region</th>\n",
       "      <th>body_type</th>\n",
       "      <th>color</th>\n",
       "      <th>drive_type</th>\n",
       "      <th>wheell_type</th>\n",
       "      <th>condition</th>\n",
       "      <th>owners_count</th>\n",
       "      <th>customs_cleared</th>\n",
       "      <th>price</th>\n",
       "    </tr>\n",
       "  </thead>\n",
       "  <tbody>\n",
       "    <tr>\n",
       "      <th>11154</th>\n",
       "      <td>6000.0</td>\n",
       "      <td>MERCEDES</td>\n",
       "      <td>Mercedes-Benz</td>\n",
       "      <td>G_KLASSE_AMG</td>\n",
       "      <td>G-Класс AMG</td>\n",
       "      <td>585.0</td>\n",
       "      <td>PREMIUM</td>\n",
       "      <td>used</td>\n",
       "      <td>AUTOMATIC</td>\n",
       "      <td>2018.0</td>\n",
       "      <td>...</td>\n",
       "      <td>suv</td>\n",
       "      <td>Москва</td>\n",
       "      <td>внедорожник 5 дв.</td>\n",
       "      <td>чёрный</td>\n",
       "      <td>полный</td>\n",
       "      <td>Левый</td>\n",
       "      <td>Не требует ремонта</td>\n",
       "      <td>1 владелец</td>\n",
       "      <td>Растаможен</td>\n",
       "      <td>19000000.0</td>\n",
       "    </tr>\n",
       "    <tr>\n",
       "      <th>11191</th>\n",
       "      <td>6000.0</td>\n",
       "      <td>MERCEDES</td>\n",
       "      <td>Mercedes-Benz</td>\n",
       "      <td>G_KLASSE_AMG</td>\n",
       "      <td>G-Класс AMG</td>\n",
       "      <td>585.0</td>\n",
       "      <td>PREMIUM</td>\n",
       "      <td>used</td>\n",
       "      <td>AUTOMATIC</td>\n",
       "      <td>2018.0</td>\n",
       "      <td>...</td>\n",
       "      <td>suv</td>\n",
       "      <td>Москва</td>\n",
       "      <td>внедорожник 5 дв.</td>\n",
       "      <td>чёрный</td>\n",
       "      <td>полный</td>\n",
       "      <td>Левый</td>\n",
       "      <td>Не требует ремонта</td>\n",
       "      <td>1 владелец</td>\n",
       "      <td>Растаможен</td>\n",
       "      <td>19000000.0</td>\n",
       "    </tr>\n",
       "    <tr>\n",
       "      <th>11228</th>\n",
       "      <td>6000.0</td>\n",
       "      <td>MERCEDES</td>\n",
       "      <td>Mercedes-Benz</td>\n",
       "      <td>G_KLASSE_AMG</td>\n",
       "      <td>G-Класс AMG</td>\n",
       "      <td>585.0</td>\n",
       "      <td>PREMIUM</td>\n",
       "      <td>used</td>\n",
       "      <td>AUTOMATIC</td>\n",
       "      <td>2018.0</td>\n",
       "      <td>...</td>\n",
       "      <td>suv</td>\n",
       "      <td>Москва</td>\n",
       "      <td>внедорожник 5 дв.</td>\n",
       "      <td>чёрный</td>\n",
       "      <td>полный</td>\n",
       "      <td>Левый</td>\n",
       "      <td>Не требует ремонта</td>\n",
       "      <td>1 владелец</td>\n",
       "      <td>Растаможен</td>\n",
       "      <td>19000000.0</td>\n",
       "    </tr>\n",
       "    <tr>\n",
       "      <th>11253</th>\n",
       "      <td>6000.0</td>\n",
       "      <td>MERCEDES</td>\n",
       "      <td>Mercedes-Benz</td>\n",
       "      <td>G_KLASSE_AMG</td>\n",
       "      <td>G-Класс AMG</td>\n",
       "      <td>585.0</td>\n",
       "      <td>PREMIUM</td>\n",
       "      <td>used</td>\n",
       "      <td>AUTOMATIC</td>\n",
       "      <td>2018.0</td>\n",
       "      <td>...</td>\n",
       "      <td>suv</td>\n",
       "      <td>Москва</td>\n",
       "      <td>внедорожник 5 дв.</td>\n",
       "      <td>чёрный</td>\n",
       "      <td>полный</td>\n",
       "      <td>Левый</td>\n",
       "      <td>Не требует ремонта</td>\n",
       "      <td>1 владелец</td>\n",
       "      <td>Растаможен</td>\n",
       "      <td>19000000.0</td>\n",
       "    </tr>\n",
       "    <tr>\n",
       "      <th>11290</th>\n",
       "      <td>6000.0</td>\n",
       "      <td>MERCEDES</td>\n",
       "      <td>Mercedes-Benz</td>\n",
       "      <td>G_KLASSE_AMG</td>\n",
       "      <td>G-Класс AMG</td>\n",
       "      <td>585.0</td>\n",
       "      <td>PREMIUM</td>\n",
       "      <td>used</td>\n",
       "      <td>AUTOMATIC</td>\n",
       "      <td>2018.0</td>\n",
       "      <td>...</td>\n",
       "      <td>suv</td>\n",
       "      <td>Москва</td>\n",
       "      <td>внедорожник 5 дв.</td>\n",
       "      <td>чёрный</td>\n",
       "      <td>полный</td>\n",
       "      <td>Левый</td>\n",
       "      <td>Не требует ремонта</td>\n",
       "      <td>1 владелец</td>\n",
       "      <td>Растаможен</td>\n",
       "      <td>19000000.0</td>\n",
       "    </tr>\n",
       "    <tr>\n",
       "      <th>...</th>\n",
       "      <td>...</td>\n",
       "      <td>...</td>\n",
       "      <td>...</td>\n",
       "      <td>...</td>\n",
       "      <td>...</td>\n",
       "      <td>...</td>\n",
       "      <td>...</td>\n",
       "      <td>...</td>\n",
       "      <td>...</td>\n",
       "      <td>...</td>\n",
       "      <td>...</td>\n",
       "      <td>...</td>\n",
       "      <td>...</td>\n",
       "      <td>...</td>\n",
       "      <td>...</td>\n",
       "      <td>...</td>\n",
       "      <td>...</td>\n",
       "      <td>...</td>\n",
       "      <td>...</td>\n",
       "      <td>...</td>\n",
       "      <td>...</td>\n",
       "    </tr>\n",
       "    <tr>\n",
       "      <th>59593</th>\n",
       "      <td>6000.0</td>\n",
       "      <td>MERCEDES</td>\n",
       "      <td>Mercedes-Benz</td>\n",
       "      <td>G_KLASSE_AMG</td>\n",
       "      <td>G-Класс AMG</td>\n",
       "      <td>585.0</td>\n",
       "      <td>PREMIUM</td>\n",
       "      <td>used</td>\n",
       "      <td>AUTOMATIC</td>\n",
       "      <td>2018.0</td>\n",
       "      <td>...</td>\n",
       "      <td>suv</td>\n",
       "      <td>Москва</td>\n",
       "      <td>внедорожник 5 дв.</td>\n",
       "      <td>чёрный</td>\n",
       "      <td>полный</td>\n",
       "      <td>Левый</td>\n",
       "      <td>Не требует ремонта</td>\n",
       "      <td>1 владелец</td>\n",
       "      <td>Растаможен</td>\n",
       "      <td>19000000.0</td>\n",
       "    </tr>\n",
       "    <tr>\n",
       "      <th>59630</th>\n",
       "      <td>6000.0</td>\n",
       "      <td>MERCEDES</td>\n",
       "      <td>Mercedes-Benz</td>\n",
       "      <td>G_KLASSE_AMG</td>\n",
       "      <td>G-Класс AMG</td>\n",
       "      <td>585.0</td>\n",
       "      <td>PREMIUM</td>\n",
       "      <td>used</td>\n",
       "      <td>AUTOMATIC</td>\n",
       "      <td>2018.0</td>\n",
       "      <td>...</td>\n",
       "      <td>suv</td>\n",
       "      <td>Москва</td>\n",
       "      <td>внедорожник 5 дв.</td>\n",
       "      <td>чёрный</td>\n",
       "      <td>полный</td>\n",
       "      <td>Левый</td>\n",
       "      <td>Не требует ремонта</td>\n",
       "      <td>1 владелец</td>\n",
       "      <td>Растаможен</td>\n",
       "      <td>19000000.0</td>\n",
       "    </tr>\n",
       "    <tr>\n",
       "      <th>59669</th>\n",
       "      <td>6000.0</td>\n",
       "      <td>MERCEDES</td>\n",
       "      <td>Mercedes-Benz</td>\n",
       "      <td>G_KLASSE_AMG</td>\n",
       "      <td>G-Класс AMG</td>\n",
       "      <td>585.0</td>\n",
       "      <td>PREMIUM</td>\n",
       "      <td>used</td>\n",
       "      <td>AUTOMATIC</td>\n",
       "      <td>2018.0</td>\n",
       "      <td>...</td>\n",
       "      <td>suv</td>\n",
       "      <td>Москва</td>\n",
       "      <td>внедорожник 5 дв.</td>\n",
       "      <td>чёрный</td>\n",
       "      <td>полный</td>\n",
       "      <td>Левый</td>\n",
       "      <td>Не требует ремонта</td>\n",
       "      <td>1 владелец</td>\n",
       "      <td>Растаможен</td>\n",
       "      <td>19000000.0</td>\n",
       "    </tr>\n",
       "    <tr>\n",
       "      <th>59706</th>\n",
       "      <td>6000.0</td>\n",
       "      <td>MERCEDES</td>\n",
       "      <td>Mercedes-Benz</td>\n",
       "      <td>G_KLASSE_AMG</td>\n",
       "      <td>G-Класс AMG</td>\n",
       "      <td>585.0</td>\n",
       "      <td>PREMIUM</td>\n",
       "      <td>used</td>\n",
       "      <td>AUTOMATIC</td>\n",
       "      <td>2018.0</td>\n",
       "      <td>...</td>\n",
       "      <td>suv</td>\n",
       "      <td>Москва</td>\n",
       "      <td>внедорожник 5 дв.</td>\n",
       "      <td>чёрный</td>\n",
       "      <td>полный</td>\n",
       "      <td>Левый</td>\n",
       "      <td>Не требует ремонта</td>\n",
       "      <td>1 владелец</td>\n",
       "      <td>Растаможен</td>\n",
       "      <td>19000000.0</td>\n",
       "    </tr>\n",
       "    <tr>\n",
       "      <th>59780</th>\n",
       "      <td>6000.0</td>\n",
       "      <td>MERCEDES</td>\n",
       "      <td>Mercedes-Benz</td>\n",
       "      <td>G_KLASSE_AMG</td>\n",
       "      <td>G-Класс AMG</td>\n",
       "      <td>585.0</td>\n",
       "      <td>PREMIUM</td>\n",
       "      <td>used</td>\n",
       "      <td>AUTOMATIC</td>\n",
       "      <td>2018.0</td>\n",
       "      <td>...</td>\n",
       "      <td>suv</td>\n",
       "      <td>Москва</td>\n",
       "      <td>внедорожник 5 дв.</td>\n",
       "      <td>чёрный</td>\n",
       "      <td>полный</td>\n",
       "      <td>Левый</td>\n",
       "      <td>Не требует ремонта</td>\n",
       "      <td>1 владелец</td>\n",
       "      <td>Растаможен</td>\n",
       "      <td>19000000.0</td>\n",
       "    </tr>\n",
       "  </tbody>\n",
       "</table>\n",
       "<p>104 rows × 21 columns</p>\n",
       "</div>"
      ],
      "text/plain": [
       "       km_age      mark       markName         model    modelName  power  \\\n",
       "11154  6000.0  MERCEDES  Mercedes-Benz  G_KLASSE_AMG  G-Класс AMG  585.0   \n",
       "11191  6000.0  MERCEDES  Mercedes-Benz  G_KLASSE_AMG  G-Класс AMG  585.0   \n",
       "11228  6000.0  MERCEDES  Mercedes-Benz  G_KLASSE_AMG  G-Класс AMG  585.0   \n",
       "11253  6000.0  MERCEDES  Mercedes-Benz  G_KLASSE_AMG  G-Класс AMG  585.0   \n",
       "11290  6000.0  MERCEDES  Mercedes-Benz  G_KLASSE_AMG  G-Класс AMG  585.0   \n",
       "...       ...       ...            ...           ...          ...    ...   \n",
       "59593  6000.0  MERCEDES  Mercedes-Benz  G_KLASSE_AMG  G-Класс AMG  585.0   \n",
       "59630  6000.0  MERCEDES  Mercedes-Benz  G_KLASSE_AMG  G-Класс AMG  585.0   \n",
       "59669  6000.0  MERCEDES  Mercedes-Benz  G_KLASSE_AMG  G-Класс AMG  585.0   \n",
       "59706  6000.0  MERCEDES  Mercedes-Benz  G_KLASSE_AMG  G-Класс AMG  585.0   \n",
       "59780  6000.0  MERCEDES  Mercedes-Benz  G_KLASSE_AMG  G-Класс AMG  585.0   \n",
       "\n",
       "       segment state transmission    year  ... type  region  \\\n",
       "11154  PREMIUM  used    AUTOMATIC  2018.0  ...  suv  Москва   \n",
       "11191  PREMIUM  used    AUTOMATIC  2018.0  ...  suv  Москва   \n",
       "11228  PREMIUM  used    AUTOMATIC  2018.0  ...  suv  Москва   \n",
       "11253  PREMIUM  used    AUTOMATIC  2018.0  ...  suv  Москва   \n",
       "11290  PREMIUM  used    AUTOMATIC  2018.0  ...  suv  Москва   \n",
       "...        ...   ...          ...     ...  ...  ...     ...   \n",
       "59593  PREMIUM  used    AUTOMATIC  2018.0  ...  suv  Москва   \n",
       "59630  PREMIUM  used    AUTOMATIC  2018.0  ...  suv  Москва   \n",
       "59669  PREMIUM  used    AUTOMATIC  2018.0  ...  suv  Москва   \n",
       "59706  PREMIUM  used    AUTOMATIC  2018.0  ...  suv  Москва   \n",
       "59780  PREMIUM  used    AUTOMATIC  2018.0  ...  suv  Москва   \n",
       "\n",
       "               body_type   color drive_type wheell_type           condition  \\\n",
       "11154  внедорожник 5 дв.  чёрный     полный       Левый  Не требует ремонта   \n",
       "11191  внедорожник 5 дв.  чёрный     полный       Левый  Не требует ремонта   \n",
       "11228  внедорожник 5 дв.  чёрный     полный       Левый  Не требует ремонта   \n",
       "11253  внедорожник 5 дв.  чёрный     полный       Левый  Не требует ремонта   \n",
       "11290  внедорожник 5 дв.  чёрный     полный       Левый  Не требует ремонта   \n",
       "...                  ...     ...        ...         ...                 ...   \n",
       "59593  внедорожник 5 дв.  чёрный     полный       Левый  Не требует ремонта   \n",
       "59630  внедорожник 5 дв.  чёрный     полный       Левый  Не требует ремонта   \n",
       "59669  внедорожник 5 дв.  чёрный     полный       Левый  Не требует ремонта   \n",
       "59706  внедорожник 5 дв.  чёрный     полный       Левый  Не требует ремонта   \n",
       "59780  внедорожник 5 дв.  чёрный     полный       Левый  Не требует ремонта   \n",
       "\n",
       "      owners_count customs_cleared       price  \n",
       "11154   1 владелец      Растаможен  19000000.0  \n",
       "11191   1 владелец      Растаможен  19000000.0  \n",
       "11228   1 владелец      Растаможен  19000000.0  \n",
       "11253   1 владелец      Растаможен  19000000.0  \n",
       "11290   1 владелец      Растаможен  19000000.0  \n",
       "...            ...             ...         ...  \n",
       "59593   1 владелец      Растаможен  19000000.0  \n",
       "59630   1 владелец      Растаможен  19000000.0  \n",
       "59669   1 владелец      Растаможен  19000000.0  \n",
       "59706   1 владелец      Растаможен  19000000.0  \n",
       "59780   1 владелец      Растаможен  19000000.0  \n",
       "\n",
       "[104 rows x 21 columns]"
      ]
     },
     "execution_count": 746,
     "metadata": {},
     "output_type": "execute_result"
    }
   ],
   "source": [
    "merc_dup_query = ((cars['price'] == 19000000.0) & (cars['mark'] == 'MERCEDES'))\n",
    "cars[merc_dup_query]"
   ]
  },
  {
   "cell_type": "code",
   "execution_count": 747,
   "metadata": {},
   "outputs": [
    {
     "data": {
      "text/plain": [
       "'Этот G-класс перезаливали публиковали повторно 104 раз. Ужас!'"
      ]
     },
     "execution_count": 747,
     "metadata": {},
     "output_type": "execute_result"
    }
   ],
   "source": [
    "f\"Этот G-класс перезаливали публиковали повторно {cars[merc_dup_query].shape[0]} раз. Ужас!\""
   ]
  },
  {
   "cell_type": "code",
   "execution_count": 748,
   "metadata": {},
   "outputs": [],
   "source": [
    "cars = cars.drop_duplicates()"
   ]
  },
  {
   "cell_type": "code",
   "execution_count": 749,
   "metadata": {
    "scrolled": true
   },
   "outputs": [
    {
     "data": {
      "text/plain": [
       "(4891, 21)"
      ]
     },
     "execution_count": 749,
     "metadata": {},
     "output_type": "execute_result"
    }
   ],
   "source": [
    "# После\n",
    "cars.shape"
   ]
  },
  {
   "cell_type": "markdown",
   "metadata": {},
   "source": [
    "#### "
   ]
  },
  {
   "cell_type": "markdown",
   "metadata": {},
   "source": [
    "## Чистка данных\n",
    "1. Дропнуть modelName и markName\n",
    "2. Превести body_type и color  к одному формату.\n",
    "3. Заменить станции метро на город в region.\n",
    "4. Скорее всего `nan - drive_type, wheell_type, condition, ownersCount, customs_cleared` потому что это новые автомобили.\n",
    "5. Нужно ли дропнуть type?"
   ]
  },
  {
   "cell_type": "markdown",
   "metadata": {},
   "source": [
    "#### 1. Дропнуть modelName и markName\n",
    "**Проблема:** Колонки дублируются. model и modelName, mark и markName предоставляют одно и ту же информацию."
   ]
  },
  {
   "cell_type": "code",
   "execution_count": 750,
   "metadata": {},
   "outputs": [],
   "source": [
    "cars = cars.drop(['modelName', 'markName'], axis=1)"
   ]
  },
  {
   "cell_type": "code",
   "execution_count": 751,
   "metadata": {},
   "outputs": [
    {
     "data": {
      "text/plain": [
       "False"
      ]
     },
     "execution_count": 751,
     "metadata": {},
     "output_type": "execute_result"
    }
   ],
   "source": [
    "'modelName' in cars.columns "
   ]
  },
  {
   "cell_type": "markdown",
   "metadata": {},
   "source": [
    "#### 2. Превести body_type и color к одному формату. Сейчас плохо ('внедорожник 5 дв.', 'Внедорожник 5 дв.')\n",
    "**Проблема:** 'внедорожник 5 дв.', 'Внедорожник 5 дв.' - это 2 разных варианта."
   ]
  },
  {
   "cell_type": "code",
   "execution_count": 752,
   "metadata": {},
   "outputs": [
    {
     "data": {
      "text/plain": [
       "(array(['седан', 'внедорожник 5 дв.', 'Внедорожник 5 дв.',\n",
       "        'универсал 5 дв.', 'минивэн', 'купе', 'Седан', 'хэтчбек 5 дв.',\n",
       "        'Купе', 'внедорожник 3 дв.', 'Лифтбек', 'пикап двойная кабина',\n",
       "        'лифтбек', 'Минивэн', 'компактвэн', 'родстер', 'Универсал 5 дв.',\n",
       "        'хэтчбек 3 дв.', 'Хэтчбек 5 дв.', 'Компактвэн', 'купе-хардтоп',\n",
       "        'Пикап двойная кабина', 'седан-хардтоп', 'кабриолет', 'лимузин',\n",
       "        'Внедорожник 3 дв.', 'фургон', 'микровэн', 'седан 2 дв.',\n",
       "        'внедорожник открытый'], dtype=object),\n",
       " 30)"
      ]
     },
     "execution_count": 752,
     "metadata": {},
     "output_type": "execute_result"
    }
   ],
   "source": [
    "# Было\n",
    "cars['body_type'].unique(), cars['body_type'].nunique()"
   ]
  },
  {
   "cell_type": "code",
   "execution_count": 753,
   "metadata": {},
   "outputs": [],
   "source": [
    "cars['body_type'] = cars['body_type'].apply(lambda x: x.lower())"
   ]
  },
  {
   "cell_type": "code",
   "execution_count": 754,
   "metadata": {},
   "outputs": [
    {
     "data": {
      "text/plain": [
       "(array(['седан', 'внедорожник 5 дв.', 'универсал 5 дв.', 'минивэн', 'купе',\n",
       "        'хэтчбек 5 дв.', 'внедорожник 3 дв.', 'лифтбек',\n",
       "        'пикап двойная кабина', 'компактвэн', 'родстер', 'хэтчбек 3 дв.',\n",
       "        'купе-хардтоп', 'седан-хардтоп', 'кабриолет', 'лимузин', 'фургон',\n",
       "        'микровэн', 'седан 2 дв.', 'внедорожник открытый'], dtype=object),\n",
       " 20)"
      ]
     },
     "execution_count": 754,
     "metadata": {},
     "output_type": "execute_result"
    }
   ],
   "source": [
    "# Стало\n",
    "cars['body_type'].unique(), cars['body_type'].nunique()"
   ]
  },
  {
   "cell_type": "code",
   "execution_count": 755,
   "metadata": {},
   "outputs": [
    {
     "data": {
      "text/plain": [
       "(array(['синий', 'белый', 'серый', 'чёрный', 'Серый', 'Чёрный', 'Белый',\n",
       "        'оранжевый', 'коричневый', 'золотистый', 'серебристый',\n",
       "        'Серебристый', 'Зелёный', 'пурпурный', 'Синий', 'зелёный',\n",
       "        'красный', 'голубой', 'Коричневый', 'фиолетовый', 'Бежевый',\n",
       "        'жёлтый', 'бежевый', 'Красный', 'Оранжевый', 'Голубой', 'Жёлтый'],\n",
       "       dtype=object),\n",
       " 27)"
      ]
     },
     "execution_count": 755,
     "metadata": {},
     "output_type": "execute_result"
    }
   ],
   "source": [
    "# Было\n",
    "cars['color'].unique(), cars['color'].nunique()"
   ]
  },
  {
   "cell_type": "code",
   "execution_count": 756,
   "metadata": {},
   "outputs": [],
   "source": [
    "cars['color'] = cars['color'].apply(lambda x: x.lower())"
   ]
  },
  {
   "cell_type": "code",
   "execution_count": 757,
   "metadata": {},
   "outputs": [
    {
     "data": {
      "text/plain": [
       "(array(['синий', 'белый', 'серый', 'чёрный', 'оранжевый', 'коричневый',\n",
       "        'золотистый', 'серебристый', 'зелёный', 'пурпурный', 'красный',\n",
       "        'голубой', 'фиолетовый', 'бежевый', 'жёлтый'], dtype=object),\n",
       " 15)"
      ]
     },
     "execution_count": 757,
     "metadata": {},
     "output_type": "execute_result"
    }
   ],
   "source": [
    "# Стало\n",
    "cars['color'].unique(), cars['color'].nunique()"
   ]
  },
  {
   "cell_type": "markdown",
   "metadata": {},
   "source": [
    "#### 3. Заменить станции метро на город в region\n",
    "**Проблема:** на сайте не всегда указывают город, в большинстве указывают станцию метро. Разобразие названий метро будет мешать обучится модели, поэтому надо превести их в единому типу.\n",
    "Для этого я собрал название метро и МЦД в файл `moscow_stations.csv`\n",
    "Также я выделил некоторые станции МЦД в *Москва и Московская область*."
   ]
  },
  {
   "cell_type": "code",
   "execution_count": 758,
   "metadata": {},
   "outputs": [
    {
     "data": {
      "text/plain": [
       "array(['Зеленоград', 'Москва', '\\xa0ДомодедовскаяЗябликово', 'Химки',\n",
       "       '\\xa0Теплый СтанТропарёво', '\\xa0Митино',\n",
       "       '\\xa0КрылатскоеМолодежная', '\\xa0Сходненская',\n",
       "       '\\xa0ТекстильщикиВолгоградский проспект', '\\xa0ЮжнаяПражская',\n",
       "       '\\xa0Беляево', '\\xa0Окружная', '\\xa0БеломорскаяРечной вокзал',\n",
       "       '\\xa0ЮжнаяЧертановская', '\\xa0АлтуфьевоБибирево',\n",
       "       '\\xa0ЗИЛАвтозаводская', '\\xa0СтрогиноМякинино',\n",
       "       '\\xa0станция Сетуньстанция Рабочий Посёлок',\n",
       "       '\\xa0Улица академика Янгелястанция Красный Строитель',\n",
       "       '\\xa0Авиамоторная', '\\xa0ПланернаяХоврино',\n",
       "       '\\xa0СаларьевоФилатов Луг', '\\xa0ОзёрнаяГоворово',\n",
       "       '\\xa0ЛюблиноВолжская', '\\xa0ЗябликовоКрасногвардейская',\n",
       "       '\\xa0РимскаяПлощадь Ильича', '\\xa0Аннино',\n",
       "       '\\xa0ТульскаяШаболовская', '\\xa0СтрогиноКрылатское',\n",
       "       '\\xa0ГоворовоТропарёво', '\\xa0Фили',\n",
       "       '\\xa0станция МоскворечьеКантемировская', '\\xa0Университет',\n",
       "       '\\xa0Шелепиха', '\\xa0Волгоградский проспектстанция Калитники',\n",
       "       '\\xa0ЩелковскаяПервомайская', '\\xa0КоптевоБалтийская',\n",
       "       '\\xa0Улица ГорчаковаБульвар адмирала Ушакова',\n",
       "       '\\xa0МедведковоБабушкинская', '\\xa0станция Маркстанция Лианозово',\n",
       "       '\\xa0БабушкинскаяСвиблово', '\\xa0ВаршавскаяЧертановская',\n",
       "       '\\xa0ЯсеневоТеплый Стан', '\\xa0Саларьево',\n",
       "       '\\xa0Ленинский проспектПлощадь Гагарина', '\\xa0КалужскаяБеляево',\n",
       "       '\\xa0ТропарёвоРумянцево', 'Балашиха', '\\xa0БутырскаяАлексеевская',\n",
       "       '\\xa0ЗоргеОктябрьское поле', '\\xa0ШаболовскаяОктябрьская',\n",
       "       '\\xa0станция ТрикотажнаяМякинино', '\\xa0Текстильщики',\n",
       "       '\\xa0ПолежаевскаяХорошёвская', '\\xa0КиевскаяКраснопресненская',\n",
       "       '\\xa0Алма-АтинскаяШипиловская',\n",
       "       '\\xa0ЖулебиноЛермонтовский проспект', '\\xa0СвибловоРостокино',\n",
       "       '\\xa0Кузьминки', 'Ржавки', '\\xa0Строгиностанция Пенягино',\n",
       "       '\\xa0Смоленская', '\\xa0Отрадное', 'Жуковка',\n",
       "       '\\xa0БеломорскаяХоврино', '\\xa0Рязанский проспект',\n",
       "       '\\xa0Алтуфьевостанция Лианозово', 'Мытищи',\n",
       "       '\\xa0ДомодедовскаяОрехово', '\\xa0станция БескудниковоСелигерская',\n",
       "       '\\xa0Юго-ЗападнаяПроспект Вернадского', '\\xa0Первомайская',\n",
       "       '\\xa0МаяковскаяБелорусская', '\\xa0ОтрадноеВладыкино',\n",
       "       '\\xa0Савеловская', '\\xa0Коломенская',\n",
       "       '\\xa0ЧертановскаяСевастопольская', '\\xa0Крылатское',\n",
       "       '\\xa0Алма-АтинскаяБорисово', '\\xa0станция Трикотажная',\n",
       "       '\\xa0БеляевоКалужская', '\\xa0БалтийскаяВойковская',\n",
       "       '\\xa0Новокосино', '\\xa0ПражскаяЮжная', '\\xa0Угрешская',\n",
       "       '\\xa0ТаганскаяМарксистская', '\\xa0Ломоносовский проспектМинская',\n",
       "       '\\xa0Теплый Стан', '\\xa0Пятницкое шоссеМитино',\n",
       "       '\\xa0СтрогиноЩукинская', '\\xa0КалужскаяКаховская', 'Люберцы',\n",
       "       '\\xa0НовогиреевоНовокосино', '\\xa0станция ДегуниноОтрадное',\n",
       "       '\\xa0станция Рабочий Посёлокстанция Сетунь',\n",
       "       '\\xa0ХовриноБеломорская', '\\xa0ГоворовоОзёрная',\n",
       "       '\\xa0ВаршавскаяСевастопольская', '\\xa0Улица 1905 года',\n",
       "       '\\xa0Жулебино', '\\xa0Филатов ЛугСаларьево', '\\xa0Ростокино',\n",
       "       '\\xa0АкадемическаяПрофсоюзная', '\\xa0Беговая', '\\xa0Арбатская',\n",
       "       '\\xa0Царицыно', '\\xa0станция Остафьевостанция Щербинка',\n",
       "       '\\xa0Рижская', '\\xa0Тушинская', '\\xa0ЗоргеПолежаевская',\n",
       "       '\\xa0КиевскаяСмоленская', '\\xa0РаменкиМичуринский проспект',\n",
       "       '\\xa0БутырскаяДмитровская', '\\xa0Юго-ЗападнаяТропарёво',\n",
       "       '\\xa0Кунцевская', '\\xa0Марьиностанция Перерва',\n",
       "       '\\xa0НагатинскаяВерхние Котлы', '\\xa0Дубровка',\n",
       "       '\\xa0Бульвар Рокоссовского', '\\xa0ГоворовоСолнцево',\n",
       "       '\\xa0Преображенская площадьЧеркизовская',\n",
       "       '\\xa0СеменовскаяЭлектрозаводская',\n",
       "       '\\xa0ЛухмановскаяУлица Дмитриевского', '\\xa0Дмитровская',\n",
       "       '\\xa0КосиноЛермонтовский проспект', '\\xa0ПервомайскаяЩелковская',\n",
       "       '\\xa0ЛесопарковаяАннино', '\\xa0Крестьянская заставаПролетарская',\n",
       "       '\\xa0Преображенская площадь',\n",
       "       '\\xa0станция ДегуниноВерхние Лихоборы',\n",
       "       '\\xa0Коломенскаястанция Депо',\n",
       "       '\\xa0Селигерскаястанция Бескудниково',\n",
       "       '\\xa0Волгоградский проспектДубровка', '\\xa0Алма-Атинская',\n",
       "       '\\xa0Алтуфьево', 'Тула', '\\xa0ПланернаяСходненская', 'Тверь',\n",
       "       'Отрадное', 'Владимир', 'Рязань', 'Шатура', '\\xa0Динамо',\n",
       "       'Наро-Фоминск', 'Щелково', 'Домодедово', 'Ликино-Дулево',\n",
       "       'Обнинск', 'Жуков', 'Сергиев Посад',\n",
       "       '\\xa0Бульвар Дмитрия ДонскогоУлица Старокачаловская', 'Детчино',\n",
       "       'Жуковский', '\\xa0станция Красный СтроительУлица академика Янгеля',\n",
       "       '\\xa0СухаревскаяКрасные ворота', 'Кашин', '\\xa0Чертановская',\n",
       "       '\\xa0Проспект Вернадского', 'Железнодорожный', 'Часцы',\n",
       "       '\\xa0ПушкинскаяТверская', 'Серпухов', 'Красногорск', 'Калуга',\n",
       "       'Гагарин', '\\xa0Молодежнаястанция Рабочий Посёлок',\n",
       "       '\\xa0Славянский бульварПионерская', 'Посёлок совхоза имени Ленина',\n",
       "       'Звенигород', '\\xa0Новохохловская', 'Подольск', 'Гаврилково',\n",
       "       '\\xa0ЯсеневоНовоясеневская', '\\xa0станция Павшино', 'Соколово',\n",
       "       'Покров', 'Ивантеевка', 'Долгопрудный', '\\xa0Калужская',\n",
       "       '\\xa0БратиславскаяМарьино', '\\xa0станция ТестовскаяВыставочная',\n",
       "       'Кубинка', '\\xa0Парк КультурыСмоленская',\n",
       "       '\\xa0Волжскаястанция Кубанская', '\\xa0ВДНХ', 'Гусь-Хрустальный',\n",
       "       'Коломна', 'Котельники', 'Раменское',\n",
       "       'Москва и Московская область', 'Внуково', 'Горки-2', 'Одинцово',\n",
       "       'Болохово', '\\xa0ОльховаяКоммунарка', '\\xa0Коптево',\n",
       "       '\\xa0ХорошёвоЦСКА', '\\xa0Юго-Западная', '\\xa0станция Силикатная',\n",
       "       'Клин', 'Зарайск', 'Заречье', '\\xa0станция ТестовскаяШелепиха',\n",
       "       'Пушкино', '\\xa0КантемировскаяКаширская', 'Ромашково',\n",
       "       '\\xa0Румянцево', 'Ростов', 'Ясногорск', 'Королёв', 'Орехово-Зуево',\n",
       "       'Бронницы', '\\xa0МолодежнаяКрылатское',\n",
       "       '\\xa0МитиноПятницкое шоссе', 'Видное', 'Горки Ленинские',\n",
       "       '\\xa0Молодежная', '\\xa0СокольникиКрасносельская',\n",
       "       '\\xa0КоломенскаяТехнопарк', '\\xa0ОреховоДомодедовская',\n",
       "       '\\xa0станция Сетунь', 'Александров', 'Киржач', 'Чехов',\n",
       "       '\\xa0Речной вокзал', '\\xa0СелигерскаяВерхние Лихоборы',\n",
       "       'Егорьевск', 'Новая', '\\xa0Улица 1905 годаКраснопресненская',\n",
       "       '\\xa0СходненскаяПланерная', 'Реутов', '\\xa0ПавелецкаяПролетарская',\n",
       "       '\\xa0Лермонтовский проспектКосино', '\\xa0Речной вокзалБеломорская',\n",
       "       '\\xa0КраснопресненскаяБаррикадная', '\\xa0БотаническаяЧкаловская',\n",
       "       '\\xa0Шоссе Энтузиастов', 'Электросталь', 'Томилино', 'Протвино',\n",
       "       'Новомосковск', '\\xa0Нижегородская',\n",
       "       '\\xa0станция ГражданскаяАэропорт',\n",
       "       '\\xa0МарксистскаяКрестьянская застава', 'Балабаново',\n",
       "       '\\xa0СтуденческаяКутузовская', 'Фрязино', 'Дмитров',\n",
       "       '\\xa0ИзмайловскаяПервомайская',\n",
       "       '\\xa0станция Красный БалтиецАэропорт', 'Воскресенск',\n",
       "       '\\xa0ПионерскаяСлавянский бульвар', '\\xa0Марьина рощаРижская',\n",
       "       'Ногинск', '\\xa0КрасногвардейскаяДомодедовская', 'Дзержинский',\n",
       "       'Кимры', '\\xa0ПанфиловскаяСокол', 'Андреевка', 'Монино',\n",
       "       'Павловская Слобода', '\\xa0Улица ДмитриевскогоЛухмановская',\n",
       "       'Семёновское', '\\xa0Парк Победы', 'Мисайлово', '\\xa0Селигерская',\n",
       "       '\\xa0МарьиноБратиславская', 'Волоколамск',\n",
       "       '\\xa0СвибловоБабушкинская', 'Верхнее Мячково',\n",
       "       '\\xa0ЛихоборыОкружная', 'Дубна', '\\xa0Войковская',\n",
       "       '\\xa0ЛужникиСпортивная', '\\xa0Перово',\n",
       "       '\\xa0НовопеределкиноРассказовка', 'Руза', 'Булатниково',\n",
       "       '\\xa0Чистые прудыТургеневская', '\\xa0Бабушкинская',\n",
       "       '\\xa0НовопеределкиноБоровское шоссе',\n",
       "       '\\xa0Мичуринский проспектРаменки', '\\xa0Верхние КотлыКрымская',\n",
       "       'Павловский Посад', 'Посёлок совхоза Останкино', 'Ярославль',\n",
       "       'Углич', 'Юрьев-Польский', '\\xa0ПервомайскаяИзмайловская',\n",
       "       'Молодёново', '\\xa0станция Красный БалтиецСокол',\n",
       "       '\\xa0ВДНХАлексеевская', 'Молоково', 'Малоярославец', '\\xa0Курская',\n",
       "       'Горелки', 'Бутово', 'Голицыно', '\\xa0Мичуринский проспект',\n",
       "       'Конаково', '\\xa0Люблиностанция Кубанская', '\\xa0Новогиреево',\n",
       "       'Архангельское', '\\xa0Бибирево', '\\xa0Тульская',\n",
       "       '\\xa0Деловой центрстанция Тестовская', 'Истра',\n",
       "       '\\xa0Воробьевы Горы', '\\xa0Щелковская', '\\xa0Озёрная',\n",
       "       '\\xa0КрымскаяВерхние Котлы', '\\xa0КоломенскаяНагатинская',\n",
       "       'Белоусово', 'Рыбное', '\\xa0Бибиревостанция Бескудниково',\n",
       "       'Беседы', 'Волковское', '\\xa0БутырскаяВДНХ',\n",
       "       '\\xa0ЩукинскаяСпартак', 'Краснознаменск',\n",
       "       '\\xa0МарксистскаяТаганская', '\\xa0ТушинскаяМитино', 'Костино',\n",
       "       'Ильинское-Усово', 'Лыткарино', '\\xa0Проспект МираСухаревская',\n",
       "       '\\xa0Домодедовская', 'Голубое', '\\xa0Международная'], dtype=object)"
      ]
     },
     "execution_count": 758,
     "metadata": {},
     "output_type": "execute_result"
    }
   ],
   "source": [
    "# Разнобразие вариантов\n",
    "cars['region'].unique()"
   ]
  },
  {
   "cell_type": "code",
   "execution_count": 759,
   "metadata": {},
   "outputs": [],
   "source": [
    "moscow_metro_stations = pd.read_csv(\"moscow_stations.csv\")"
   ]
  },
  {
   "cell_type": "code",
   "execution_count": 760,
   "metadata": {},
   "outputs": [
    {
     "data": {
      "text/html": [
       "<div>\n",
       "<style scoped>\n",
       "    .dataframe tbody tr th:only-of-type {\n",
       "        vertical-align: middle;\n",
       "    }\n",
       "\n",
       "    .dataframe tbody tr th {\n",
       "        vertical-align: top;\n",
       "    }\n",
       "\n",
       "    .dataframe thead th {\n",
       "        text-align: right;\n",
       "    }\n",
       "</style>\n",
       "<table border=\"1\" class=\"dataframe\">\n",
       "  <thead>\n",
       "    <tr style=\"text-align: right;\">\n",
       "      <th></th>\n",
       "      <th>name</th>\n",
       "    </tr>\n",
       "  </thead>\n",
       "  <tbody>\n",
       "    <tr>\n",
       "      <th>0</th>\n",
       "      <td>Третьяковская</td>\n",
       "    </tr>\n",
       "    <tr>\n",
       "      <th>1</th>\n",
       "      <td>Медведково</td>\n",
       "    </tr>\n",
       "    <tr>\n",
       "      <th>2</th>\n",
       "      <td>Первомайская</td>\n",
       "    </tr>\n",
       "    <tr>\n",
       "      <th>3</th>\n",
       "      <td>Калужская</td>\n",
       "    </tr>\n",
       "    <tr>\n",
       "      <th>4</th>\n",
       "      <td>Каховская</td>\n",
       "    </tr>\n",
       "  </tbody>\n",
       "</table>\n",
       "</div>"
      ],
      "text/plain": [
       "            name\n",
       "0  Третьяковская\n",
       "1     Медведково\n",
       "2   Первомайская\n",
       "3      Калужская\n",
       "4      Каховская"
      ]
     },
     "execution_count": 760,
     "metadata": {},
     "output_type": "execute_result"
    }
   ],
   "source": [
    "moscow_metro_stations.head()"
   ]
  },
  {
   "cell_type": "code",
   "execution_count": 761,
   "metadata": {},
   "outputs": [],
   "source": [
    "for station in moscow_metro_stations['name']:\n",
    "    cars['region'] = cars['region'].replace(regex=fr'^.*{station}.*$', value='Москва')"
   ]
  },
  {
   "cell_type": "code",
   "execution_count": 762,
   "metadata": {},
   "outputs": [],
   "source": [
    "moscow_area_stations = ['станция Сетунь', 'станция Остафьево', 'станция Павшино', 'станция Силикатная']"
   ]
  },
  {
   "cell_type": "code",
   "execution_count": 763,
   "metadata": {},
   "outputs": [],
   "source": [
    "for station in moscow_area_stations:\n",
    "    cars['region'] = cars['region'].replace(regex=fr'^.*{station}.*$', value='Москва и Московская область')"
   ]
  },
  {
   "cell_type": "code",
   "execution_count": 764,
   "metadata": {},
   "outputs": [
    {
     "data": {
      "text/plain": [
       "array(['Зеленоград', 'Москва', 'Химки', 'Москва и Московская область',\n",
       "       'Балашиха', 'Ржавки', 'Жуковка', 'Мытищи', 'Люберцы', 'Тула',\n",
       "       'Тверь', 'Владимир', 'Рязань', 'Шатура', 'Наро-Фоминск', 'Щелково',\n",
       "       'Домодедово', 'Ликино-Дулево', 'Обнинск', 'Жуков', 'Сергиев Посад',\n",
       "       'Детчино', 'Жуковский', 'Кашин', 'Железнодорожный', 'Часцы',\n",
       "       'Серпухов', 'Красногорск', 'Калуга', 'Гагарин',\n",
       "       'Посёлок совхоза имени Ленина', 'Звенигород', 'Подольск',\n",
       "       'Гаврилково', 'Покров', 'Ивантеевка', 'Долгопрудный', 'Кубинка',\n",
       "       'Гусь-Хрустальный', 'Коломна', 'Раменское', 'Внуково', 'Горки-2',\n",
       "       'Одинцово', 'Болохово', 'Клин', 'Зарайск', 'Заречье', 'Пушкино',\n",
       "       'Ромашково', 'Ростов', 'Ясногорск', 'Королёв', 'Бронницы',\n",
       "       'Видное', 'Горки Ленинские', 'Александров', 'Киржач', 'Чехов',\n",
       "       'Егорьевск', 'Новая', 'Реутов', 'Электросталь', 'Томилино',\n",
       "       'Протвино', 'Новомосковск', 'Балабаново', 'Фрязино', 'Дмитров',\n",
       "       'Воскресенск', 'Ногинск', 'Дзержинский', 'Кимры', 'Андреевка',\n",
       "       'Монино', 'Павловская Слобода', 'Семёновское', 'Мисайлово',\n",
       "       'Волоколамск', 'Верхнее Мячково', 'Дубна', 'Руза', 'Булатниково',\n",
       "       'Павловский Посад', 'Посёлок совхоза Останкино', 'Ярославль',\n",
       "       'Углич', 'Юрьев-Польский', 'Молодёново', 'Молоково',\n",
       "       'Малоярославец', 'Горелки', 'Бутово', 'Голицыно', 'Конаково',\n",
       "       'Архангельское', 'Истра', 'Белоусово', 'Рыбное', 'Беседы',\n",
       "       'Волковское', 'Краснознаменск', 'Костино', 'Ильинское-Усово',\n",
       "       'Лыткарино', 'Голубое'], dtype=object)"
      ]
     },
     "execution_count": 764,
     "metadata": {},
     "output_type": "execute_result"
    }
   ],
   "source": [
    "cars['region'].unique()"
   ]
  },
  {
   "cell_type": "markdown",
   "metadata": {},
   "source": [
    "**Итог:** теперь фича `region` в едином формате, в формате городов."
   ]
  },
  {
   "cell_type": "markdown",
   "metadata": {},
   "source": [
    "#### 4. Скорее всего nan - drive_type, wheell_type, condition, ownersCount, customs_cleared потому что это новые автомобили\n",
    "**Проблема:** Для новых автомобилей нет информации о приводе, тип лево-/праворульная, кол-во владелецев и растоможена ли она или нет."
   ]
  },
  {
   "cell_type": "code",
   "execution_count": 765,
   "metadata": {},
   "outputs": [
    {
     "data": {
      "text/plain": [
       "km_age                0\n",
       "mark                  0\n",
       "model                 0\n",
       "power                 0\n",
       "segment               0\n",
       "state                 0\n",
       "transmission          0\n",
       "year                  0\n",
       "engine_type           0\n",
       "type               2596\n",
       "region                0\n",
       "body_type             0\n",
       "color                 0\n",
       "drive_type          824\n",
       "wheell_type         824\n",
       "condition           824\n",
       "owners_count        824\n",
       "customs_cleared     824\n",
       "price                 0\n",
       "dtype: int64"
      ]
     },
     "execution_count": 765,
     "metadata": {},
     "output_type": "execute_result"
    }
   ],
   "source": [
    "# Для подтверждения гипотезы выведем кол-во незаполненных кол-во наблюдения для *всех* и для *новых*\n",
    "cars.isnull().sum()"
   ]
  },
  {
   "cell_type": "code",
   "execution_count": 766,
   "metadata": {},
   "outputs": [],
   "source": [
    "new_cars = cars[cars['state'] == 'new']"
   ]
  },
  {
   "cell_type": "code",
   "execution_count": 767,
   "metadata": {},
   "outputs": [
    {
     "data": {
      "text/plain": [
       "km_age               0\n",
       "mark                 0\n",
       "model                0\n",
       "power                0\n",
       "segment              0\n",
       "state                0\n",
       "transmission         0\n",
       "year                 0\n",
       "engine_type          0\n",
       "type               259\n",
       "region               0\n",
       "body_type            0\n",
       "color                0\n",
       "drive_type         824\n",
       "wheell_type        824\n",
       "condition          824\n",
       "owners_count       824\n",
       "customs_cleared    824\n",
       "price                0\n",
       "dtype: int64"
      ]
     },
     "execution_count": 767,
     "metadata": {},
     "output_type": "execute_result"
    }
   ],
   "source": [
    "new_cars.isnull().sum()"
   ]
  },
  {
   "cell_type": "markdown",
   "metadata": {},
   "source": [
    "###### Гипотеза подвердилась, продолжаем заполнять данные"
   ]
  },
  {
   "cell_type": "code",
   "execution_count": 768,
   "metadata": {},
   "outputs": [
    {
     "data": {
      "text/plain": [
       "array(['передний', 'задний', 'полный', nan], dtype=object)"
      ]
     },
     "execution_count": 768,
     "metadata": {},
     "output_type": "execute_result"
    }
   ],
   "source": [
    "cars['drive_type'].unique()"
   ]
  },
  {
   "cell_type": "code",
   "execution_count": 769,
   "metadata": {},
   "outputs": [],
   "source": [
    "cars['drive_type'] = cars['drive_type'].fillna('неизвестно')"
   ]
  },
  {
   "cell_type": "code",
   "execution_count": 770,
   "metadata": {},
   "outputs": [
    {
     "data": {
      "text/plain": [
       "0"
      ]
     },
     "execution_count": 770,
     "metadata": {},
     "output_type": "execute_result"
    }
   ],
   "source": [
    "cars['drive_type'].isnull().sum()"
   ]
  },
  {
   "cell_type": "markdown",
   "metadata": {},
   "source": [
    "Большинство новых автомобилей леворульные, поэтому заполняем их как леворульные"
   ]
  },
  {
   "cell_type": "code",
   "execution_count": 771,
   "metadata": {},
   "outputs": [
    {
     "data": {
      "text/plain": [
       "array(['Левый', nan, 'Правый'], dtype=object)"
      ]
     },
     "execution_count": 771,
     "metadata": {},
     "output_type": "execute_result"
    }
   ],
   "source": [
    "cars['wheell_type'].unique() "
   ]
  },
  {
   "cell_type": "code",
   "execution_count": 772,
   "metadata": {},
   "outputs": [],
   "source": [
    "cars['wheell_type'] = cars['wheell_type'].fillna('Левый')"
   ]
  },
  {
   "cell_type": "code",
   "execution_count": 773,
   "metadata": {},
   "outputs": [
    {
     "data": {
      "text/plain": [
       "0"
      ]
     },
     "execution_count": 773,
     "metadata": {},
     "output_type": "execute_result"
    }
   ],
   "source": [
    "cars['wheell_type'].isnull().sum()"
   ]
  },
  {
   "cell_type": "markdown",
   "metadata": {},
   "source": [
    "Состояние машин заполняем, как \"новая\""
   ]
  },
  {
   "cell_type": "code",
   "execution_count": 774,
   "metadata": {},
   "outputs": [
    {
     "data": {
      "text/plain": [
       "array(['Не требует ремонта', nan], dtype=object)"
      ]
     },
     "execution_count": 774,
     "metadata": {},
     "output_type": "execute_result"
    }
   ],
   "source": [
    "cars['condition'].unique()"
   ]
  },
  {
   "cell_type": "code",
   "execution_count": 775,
   "metadata": {},
   "outputs": [],
   "source": [
    "cars['condition'] = cars['condition'].fillna('Новая')"
   ]
  },
  {
   "cell_type": "code",
   "execution_count": 776,
   "metadata": {},
   "outputs": [
    {
     "data": {
      "text/plain": [
       "0"
      ]
     },
     "execution_count": 776,
     "metadata": {},
     "output_type": "execute_result"
    }
   ],
   "source": [
    "cars['condition'].isnull().sum()"
   ]
  },
  {
   "cell_type": "markdown",
   "metadata": {},
   "source": [
    "У новых автомобилей не было владелецев, заполняем - \"0 владелецев\""
   ]
  },
  {
   "cell_type": "code",
   "execution_count": 777,
   "metadata": {
    "scrolled": true
   },
   "outputs": [
    {
     "data": {
      "text/plain": [
       "array(['1\\xa0владелец', '3 или более', '2\\xa0владельца', nan],\n",
       "      dtype=object)"
      ]
     },
     "execution_count": 777,
     "metadata": {},
     "output_type": "execute_result"
    }
   ],
   "source": [
    "cars['owners_count'].unique()"
   ]
  },
  {
   "cell_type": "code",
   "execution_count": 778,
   "metadata": {},
   "outputs": [],
   "source": [
    "cars['owners_count'] = cars['owners_count'].fillna('0 владелецев')"
   ]
  },
  {
   "cell_type": "code",
   "execution_count": 779,
   "metadata": {},
   "outputs": [
    {
     "data": {
      "text/plain": [
       "0"
      ]
     },
     "execution_count": 779,
     "metadata": {},
     "output_type": "execute_result"
    }
   ],
   "source": [
    "cars['owners_count'].isnull().sum()"
   ]
  },
  {
   "cell_type": "markdown",
   "metadata": {},
   "source": [
    "Все новые автомобили растаможены, заполняем \"Растаможен\""
   ]
  },
  {
   "cell_type": "code",
   "execution_count": 780,
   "metadata": {},
   "outputs": [
    {
     "data": {
      "text/plain": [
       "array(['Растаможен', nan], dtype=object)"
      ]
     },
     "execution_count": 780,
     "metadata": {},
     "output_type": "execute_result"
    }
   ],
   "source": [
    "cars['customs_cleared'].unique()"
   ]
  },
  {
   "cell_type": "code",
   "execution_count": 781,
   "metadata": {},
   "outputs": [],
   "source": [
    "cars['customs_cleared'] = cars['customs_cleared'].fillna('Растаможен')"
   ]
  },
  {
   "cell_type": "code",
   "execution_count": 782,
   "metadata": {},
   "outputs": [
    {
     "data": {
      "text/plain": [
       "0"
      ]
     },
     "execution_count": 782,
     "metadata": {},
     "output_type": "execute_result"
    }
   ],
   "source": [
    "cars['customs_cleared'].isnull().sum()"
   ]
  },
  {
   "cell_type": "markdown",
   "metadata": {},
   "source": [
    "#### 5. Нужно ли дропнуть type?\n",
    "**Проблема:** type - тип автомобиля, который заполнен только одним значением `suv`. Дропнуть его или нет?"
   ]
  },
  {
   "cell_type": "code",
   "execution_count": 783,
   "metadata": {},
   "outputs": [],
   "source": [
    "n_null_type = cars['type'].isnull().sum()"
   ]
  },
  {
   "cell_type": "code",
   "execution_count": 784,
   "metadata": {},
   "outputs": [
    {
     "data": {
      "text/plain": [
       "'В процентах это будет 53.08%'"
      ]
     },
     "execution_count": 784,
     "metadata": {},
     "output_type": "execute_result"
    }
   ],
   "source": [
    "f'В процентах это будет {round((n_null_type / cars.shape[0]) * 100, 2)}%'"
   ]
  },
  {
   "cell_type": "code",
   "execution_count": 785,
   "metadata": {},
   "outputs": [
    {
     "data": {
      "text/plain": [
       "array([nan, 'suv'], dtype=object)"
      ]
     },
     "execution_count": 785,
     "metadata": {},
     "output_type": "execute_result"
    }
   ],
   "source": [
    "cars['type'].unique()"
   ]
  },
  {
   "cell_type": "markdown",
   "metadata": {},
   "source": [
    "53% это много + есть всего 1 одно значение `suv`. Решаю **дропнуть** значение."
   ]
  },
  {
   "cell_type": "code",
   "execution_count": 786,
   "metadata": {},
   "outputs": [],
   "source": [
    "cars = cars.drop('type', axis=1)"
   ]
  },
  {
   "cell_type": "code",
   "execution_count": 787,
   "metadata": {},
   "outputs": [
    {
     "data": {
      "text/plain": [
       "False"
      ]
     },
     "execution_count": 787,
     "metadata": {},
     "output_type": "execute_result"
    }
   ],
   "source": [
    "'type' in cars.columns"
   ]
  },
  {
   "cell_type": "markdown",
   "metadata": {},
   "source": [
    "###### Итоговый дата фрейм"
   ]
  },
  {
   "cell_type": "code",
   "execution_count": 788,
   "metadata": {},
   "outputs": [
    {
     "data": {
      "text/html": [
       "<div>\n",
       "<style scoped>\n",
       "    .dataframe tbody tr th:only-of-type {\n",
       "        vertical-align: middle;\n",
       "    }\n",
       "\n",
       "    .dataframe tbody tr th {\n",
       "        vertical-align: top;\n",
       "    }\n",
       "\n",
       "    .dataframe thead th {\n",
       "        text-align: right;\n",
       "    }\n",
       "</style>\n",
       "<table border=\"1\" class=\"dataframe\">\n",
       "  <thead>\n",
       "    <tr style=\"text-align: right;\">\n",
       "      <th></th>\n",
       "      <th>km_age</th>\n",
       "      <th>mark</th>\n",
       "      <th>model</th>\n",
       "      <th>power</th>\n",
       "      <th>segment</th>\n",
       "      <th>state</th>\n",
       "      <th>transmission</th>\n",
       "      <th>year</th>\n",
       "      <th>engine_type</th>\n",
       "      <th>region</th>\n",
       "      <th>body_type</th>\n",
       "      <th>color</th>\n",
       "      <th>drive_type</th>\n",
       "      <th>wheell_type</th>\n",
       "      <th>condition</th>\n",
       "      <th>owners_count</th>\n",
       "      <th>customs_cleared</th>\n",
       "      <th>price</th>\n",
       "    </tr>\n",
       "  </thead>\n",
       "  <tbody>\n",
       "    <tr>\n",
       "      <th>0</th>\n",
       "      <td>60000.0</td>\n",
       "      <td>KIA</td>\n",
       "      <td>OPTIMA</td>\n",
       "      <td>188.0</td>\n",
       "      <td>MEDIUM</td>\n",
       "      <td>used</td>\n",
       "      <td>AUTOMATIC</td>\n",
       "      <td>2018.0</td>\n",
       "      <td>GASOLINE</td>\n",
       "      <td>Зеленоград</td>\n",
       "      <td>седан</td>\n",
       "      <td>синий</td>\n",
       "      <td>передний</td>\n",
       "      <td>Левый</td>\n",
       "      <td>Не требует ремонта</td>\n",
       "      <td>1 владелец</td>\n",
       "      <td>Растаможен</td>\n",
       "      <td>1600000.0</td>\n",
       "    </tr>\n",
       "    <tr>\n",
       "      <th>1</th>\n",
       "      <td>74000.0</td>\n",
       "      <td>AUDI</td>\n",
       "      <td>A4</td>\n",
       "      <td>170.0</td>\n",
       "      <td>PREMIUM</td>\n",
       "      <td>used</td>\n",
       "      <td>VARIATOR</td>\n",
       "      <td>2012.0</td>\n",
       "      <td>GASOLINE</td>\n",
       "      <td>Москва</td>\n",
       "      <td>седан</td>\n",
       "      <td>белый</td>\n",
       "      <td>передний</td>\n",
       "      <td>Левый</td>\n",
       "      <td>Не требует ремонта</td>\n",
       "      <td>3 или более</td>\n",
       "      <td>Растаможен</td>\n",
       "      <td>1040000.0</td>\n",
       "    </tr>\n",
       "    <tr>\n",
       "      <th>2</th>\n",
       "      <td>39900.0</td>\n",
       "      <td>GAZ</td>\n",
       "      <td>21</td>\n",
       "      <td>75.0</td>\n",
       "      <td>MEDIUM</td>\n",
       "      <td>used</td>\n",
       "      <td>MECHANICAL</td>\n",
       "      <td>1970.0</td>\n",
       "      <td>GASOLINE</td>\n",
       "      <td>Москва</td>\n",
       "      <td>седан</td>\n",
       "      <td>серый</td>\n",
       "      <td>задний</td>\n",
       "      <td>Левый</td>\n",
       "      <td>Не требует ремонта</td>\n",
       "      <td>2 владельца</td>\n",
       "      <td>Растаможен</td>\n",
       "      <td>390000.0</td>\n",
       "    </tr>\n",
       "    <tr>\n",
       "      <th>3</th>\n",
       "      <td>120000.0</td>\n",
       "      <td>TOYOTA</td>\n",
       "      <td>VENZA</td>\n",
       "      <td>185.0</td>\n",
       "      <td>MEDIUM</td>\n",
       "      <td>used</td>\n",
       "      <td>AUTOMATIC</td>\n",
       "      <td>2013.0</td>\n",
       "      <td>GASOLINE</td>\n",
       "      <td>Москва</td>\n",
       "      <td>внедорожник 5 дв.</td>\n",
       "      <td>белый</td>\n",
       "      <td>полный</td>\n",
       "      <td>Левый</td>\n",
       "      <td>Не требует ремонта</td>\n",
       "      <td>2 владельца</td>\n",
       "      <td>Растаможен</td>\n",
       "      <td>1575000.0</td>\n",
       "    </tr>\n",
       "    <tr>\n",
       "      <th>4</th>\n",
       "      <td>453844.0</td>\n",
       "      <td>MERCEDES</td>\n",
       "      <td>G_KLASSE</td>\n",
       "      <td>215.0</td>\n",
       "      <td>PREMIUM</td>\n",
       "      <td>used</td>\n",
       "      <td>AUTOMATIC</td>\n",
       "      <td>2000.0</td>\n",
       "      <td>GASOLINE</td>\n",
       "      <td>Москва</td>\n",
       "      <td>внедорожник 5 дв.</td>\n",
       "      <td>чёрный</td>\n",
       "      <td>полный</td>\n",
       "      <td>Левый</td>\n",
       "      <td>Не требует ремонта</td>\n",
       "      <td>3 или более</td>\n",
       "      <td>Растаможен</td>\n",
       "      <td>1098000.0</td>\n",
       "    </tr>\n",
       "  </tbody>\n",
       "</table>\n",
       "</div>"
      ],
      "text/plain": [
       "     km_age      mark     model  power  segment state transmission    year  \\\n",
       "0   60000.0       KIA    OPTIMA  188.0   MEDIUM  used    AUTOMATIC  2018.0   \n",
       "1   74000.0      AUDI        A4  170.0  PREMIUM  used     VARIATOR  2012.0   \n",
       "2   39900.0       GAZ        21   75.0   MEDIUM  used   MECHANICAL  1970.0   \n",
       "3  120000.0    TOYOTA     VENZA  185.0   MEDIUM  used    AUTOMATIC  2013.0   \n",
       "4  453844.0  MERCEDES  G_KLASSE  215.0  PREMIUM  used    AUTOMATIC  2000.0   \n",
       "\n",
       "  engine_type      region          body_type   color drive_type wheell_type  \\\n",
       "0    GASOLINE  Зеленоград              седан   синий   передний       Левый   \n",
       "1    GASOLINE      Москва              седан   белый   передний       Левый   \n",
       "2    GASOLINE      Москва              седан   серый     задний       Левый   \n",
       "3    GASOLINE      Москва  внедорожник 5 дв.   белый     полный       Левый   \n",
       "4    GASOLINE      Москва  внедорожник 5 дв.  чёрный     полный       Левый   \n",
       "\n",
       "            condition owners_count customs_cleared      price  \n",
       "0  Не требует ремонта   1 владелец      Растаможен  1600000.0  \n",
       "1  Не требует ремонта  3 или более      Растаможен  1040000.0  \n",
       "2  Не требует ремонта  2 владельца      Растаможен   390000.0  \n",
       "3  Не требует ремонта  2 владельца      Растаможен  1575000.0  \n",
       "4  Не требует ремонта  3 или более      Растаможен  1098000.0  "
      ]
     },
     "execution_count": 788,
     "metadata": {},
     "output_type": "execute_result"
    }
   ],
   "source": [
    "cars.head()"
   ]
  },
  {
   "cell_type": "markdown",
   "metadata": {},
   "source": [
    "###### И последний штрих \n",
    "`km_age`, `power`, `price`, `year` - это целочисленные значения, но тут распознаются как float. Исправим это."
   ]
  },
  {
   "cell_type": "code",
   "execution_count": 789,
   "metadata": {},
   "outputs": [
    {
     "name": "stdout",
     "output_type": "stream",
     "text": [
      "Было :float64\n",
      "Стало :int32\n"
     ]
    }
   ],
   "source": [
    "print(f\"Было :{cars['km_age'].dtype}\")\n",
    "cars['km_age'] = cars['km_age'].astype(\"int32\")\n",
    "print(f\"Стало :{cars['km_age'].dtype}\")"
   ]
  },
  {
   "cell_type": "code",
   "execution_count": 790,
   "metadata": {},
   "outputs": [
    {
     "name": "stdout",
     "output_type": "stream",
     "text": [
      "Было :float64\n",
      "Стало :int32\n"
     ]
    }
   ],
   "source": [
    "print(f\"Было :{cars['power'].dtype}\")\n",
    "cars['power'] = cars['power'].astype(\"int32\")\n",
    "print(f\"Стало :{cars['power'].dtype}\")"
   ]
  },
  {
   "cell_type": "code",
   "execution_count": 791,
   "metadata": {},
   "outputs": [
    {
     "name": "stdout",
     "output_type": "stream",
     "text": [
      "Было :float64\n",
      "Стало :int32\n"
     ]
    }
   ],
   "source": [
    "print(f\"Было :{cars['price'].dtype}\")\n",
    "cars['price'] = cars['price'].astype(\"int32\")\n",
    "print(f\"Стало :{cars['price'].dtype}\")"
   ]
  },
  {
   "cell_type": "code",
   "execution_count": 792,
   "metadata": {},
   "outputs": [
    {
     "name": "stdout",
     "output_type": "stream",
     "text": [
      "Было :float64\n",
      "Стало :int32\n"
     ]
    }
   ],
   "source": [
    "print(f\"Было :{cars['year'].dtype}\")\n",
    "cars['year'] = cars['year'].astype(\"int32\")\n",
    "print(f\"Стало :{cars['year'].dtype}\")"
   ]
  },
  {
   "cell_type": "markdown",
   "metadata": {},
   "source": [
    "## Вот итоговый-итоговый дата фрейм"
   ]
  },
  {
   "cell_type": "code",
   "execution_count": 793,
   "metadata": {},
   "outputs": [
    {
     "data": {
      "text/html": [
       "<div>\n",
       "<style scoped>\n",
       "    .dataframe tbody tr th:only-of-type {\n",
       "        vertical-align: middle;\n",
       "    }\n",
       "\n",
       "    .dataframe tbody tr th {\n",
       "        vertical-align: top;\n",
       "    }\n",
       "\n",
       "    .dataframe thead th {\n",
       "        text-align: right;\n",
       "    }\n",
       "</style>\n",
       "<table border=\"1\" class=\"dataframe\">\n",
       "  <thead>\n",
       "    <tr style=\"text-align: right;\">\n",
       "      <th></th>\n",
       "      <th>km_age</th>\n",
       "      <th>mark</th>\n",
       "      <th>model</th>\n",
       "      <th>power</th>\n",
       "      <th>segment</th>\n",
       "      <th>state</th>\n",
       "      <th>transmission</th>\n",
       "      <th>year</th>\n",
       "      <th>engine_type</th>\n",
       "      <th>region</th>\n",
       "      <th>body_type</th>\n",
       "      <th>color</th>\n",
       "      <th>drive_type</th>\n",
       "      <th>wheell_type</th>\n",
       "      <th>condition</th>\n",
       "      <th>owners_count</th>\n",
       "      <th>customs_cleared</th>\n",
       "      <th>price</th>\n",
       "    </tr>\n",
       "  </thead>\n",
       "  <tbody>\n",
       "    <tr>\n",
       "      <th>0</th>\n",
       "      <td>60000</td>\n",
       "      <td>KIA</td>\n",
       "      <td>OPTIMA</td>\n",
       "      <td>188</td>\n",
       "      <td>MEDIUM</td>\n",
       "      <td>used</td>\n",
       "      <td>AUTOMATIC</td>\n",
       "      <td>2018</td>\n",
       "      <td>GASOLINE</td>\n",
       "      <td>Зеленоград</td>\n",
       "      <td>седан</td>\n",
       "      <td>синий</td>\n",
       "      <td>передний</td>\n",
       "      <td>Левый</td>\n",
       "      <td>Не требует ремонта</td>\n",
       "      <td>1 владелец</td>\n",
       "      <td>Растаможен</td>\n",
       "      <td>1600000</td>\n",
       "    </tr>\n",
       "    <tr>\n",
       "      <th>1</th>\n",
       "      <td>74000</td>\n",
       "      <td>AUDI</td>\n",
       "      <td>A4</td>\n",
       "      <td>170</td>\n",
       "      <td>PREMIUM</td>\n",
       "      <td>used</td>\n",
       "      <td>VARIATOR</td>\n",
       "      <td>2012</td>\n",
       "      <td>GASOLINE</td>\n",
       "      <td>Москва</td>\n",
       "      <td>седан</td>\n",
       "      <td>белый</td>\n",
       "      <td>передний</td>\n",
       "      <td>Левый</td>\n",
       "      <td>Не требует ремонта</td>\n",
       "      <td>3 или более</td>\n",
       "      <td>Растаможен</td>\n",
       "      <td>1040000</td>\n",
       "    </tr>\n",
       "    <tr>\n",
       "      <th>2</th>\n",
       "      <td>39900</td>\n",
       "      <td>GAZ</td>\n",
       "      <td>21</td>\n",
       "      <td>75</td>\n",
       "      <td>MEDIUM</td>\n",
       "      <td>used</td>\n",
       "      <td>MECHANICAL</td>\n",
       "      <td>1970</td>\n",
       "      <td>GASOLINE</td>\n",
       "      <td>Москва</td>\n",
       "      <td>седан</td>\n",
       "      <td>серый</td>\n",
       "      <td>задний</td>\n",
       "      <td>Левый</td>\n",
       "      <td>Не требует ремонта</td>\n",
       "      <td>2 владельца</td>\n",
       "      <td>Растаможен</td>\n",
       "      <td>390000</td>\n",
       "    </tr>\n",
       "    <tr>\n",
       "      <th>3</th>\n",
       "      <td>120000</td>\n",
       "      <td>TOYOTA</td>\n",
       "      <td>VENZA</td>\n",
       "      <td>185</td>\n",
       "      <td>MEDIUM</td>\n",
       "      <td>used</td>\n",
       "      <td>AUTOMATIC</td>\n",
       "      <td>2013</td>\n",
       "      <td>GASOLINE</td>\n",
       "      <td>Москва</td>\n",
       "      <td>внедорожник 5 дв.</td>\n",
       "      <td>белый</td>\n",
       "      <td>полный</td>\n",
       "      <td>Левый</td>\n",
       "      <td>Не требует ремонта</td>\n",
       "      <td>2 владельца</td>\n",
       "      <td>Растаможен</td>\n",
       "      <td>1575000</td>\n",
       "    </tr>\n",
       "    <tr>\n",
       "      <th>4</th>\n",
       "      <td>453844</td>\n",
       "      <td>MERCEDES</td>\n",
       "      <td>G_KLASSE</td>\n",
       "      <td>215</td>\n",
       "      <td>PREMIUM</td>\n",
       "      <td>used</td>\n",
       "      <td>AUTOMATIC</td>\n",
       "      <td>2000</td>\n",
       "      <td>GASOLINE</td>\n",
       "      <td>Москва</td>\n",
       "      <td>внедорожник 5 дв.</td>\n",
       "      <td>чёрный</td>\n",
       "      <td>полный</td>\n",
       "      <td>Левый</td>\n",
       "      <td>Не требует ремонта</td>\n",
       "      <td>3 или более</td>\n",
       "      <td>Растаможен</td>\n",
       "      <td>1098000</td>\n",
       "    </tr>\n",
       "  </tbody>\n",
       "</table>\n",
       "</div>"
      ],
      "text/plain": [
       "   km_age      mark     model  power  segment state transmission  year  \\\n",
       "0   60000       KIA    OPTIMA    188   MEDIUM  used    AUTOMATIC  2018   \n",
       "1   74000      AUDI        A4    170  PREMIUM  used     VARIATOR  2012   \n",
       "2   39900       GAZ        21     75   MEDIUM  used   MECHANICAL  1970   \n",
       "3  120000    TOYOTA     VENZA    185   MEDIUM  used    AUTOMATIC  2013   \n",
       "4  453844  MERCEDES  G_KLASSE    215  PREMIUM  used    AUTOMATIC  2000   \n",
       "\n",
       "  engine_type      region          body_type   color drive_type wheell_type  \\\n",
       "0    GASOLINE  Зеленоград              седан   синий   передний       Левый   \n",
       "1    GASOLINE      Москва              седан   белый   передний       Левый   \n",
       "2    GASOLINE      Москва              седан   серый     задний       Левый   \n",
       "3    GASOLINE      Москва  внедорожник 5 дв.   белый     полный       Левый   \n",
       "4    GASOLINE      Москва  внедорожник 5 дв.  чёрный     полный       Левый   \n",
       "\n",
       "            condition owners_count customs_cleared    price  \n",
       "0  Не требует ремонта   1 владелец      Растаможен  1600000  \n",
       "1  Не требует ремонта  3 или более      Растаможен  1040000  \n",
       "2  Не требует ремонта  2 владельца      Растаможен   390000  \n",
       "3  Не требует ремонта  2 владельца      Растаможен  1575000  \n",
       "4  Не требует ремонта  3 или более      Растаможен  1098000  "
      ]
     },
     "execution_count": 793,
     "metadata": {},
     "output_type": "execute_result"
    }
   ],
   "source": [
    "cars.head()"
   ]
  },
  {
   "cell_type": "code",
   "execution_count": 794,
   "metadata": {},
   "outputs": [],
   "source": [
    "cars.to_csv('autoru_cleaned.csv', index=False)"
   ]
  }
 ],
 "metadata": {
  "kernelspec": {
   "display_name": "Python 3",
   "language": "python",
   "name": "python3"
  },
  "language_info": {
   "codemirror_mode": {
    "name": "ipython",
    "version": 3
   },
   "file_extension": ".py",
   "mimetype": "text/x-python",
   "name": "python",
   "nbconvert_exporter": "python",
   "pygments_lexer": "ipython3",
   "version": "3.8.3"
  }
 },
 "nbformat": 4,
 "nbformat_minor": 4
}
